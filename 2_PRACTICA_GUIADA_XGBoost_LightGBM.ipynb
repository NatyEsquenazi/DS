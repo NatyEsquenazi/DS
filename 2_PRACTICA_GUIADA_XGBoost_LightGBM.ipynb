{
 "cells": [
  {
   "cell_type": "markdown",
   "metadata": {
    "colab_type": "text",
    "id": "knzulYd1Cfir"
   },
   "source": [
    "## Prediciendo quiebra de empresas"
   ]
  },
  {
   "cell_type": "markdown",
   "metadata": {
    "colab_type": "text",
    "id": "961vNjYyCfis"
   },
   "source": [
    "En esta práctica guiada vamos a trabajar en predecir la quiebra de empresas en Polonia. La información fue obtenida del Servicio de Información de Mercados Emergentes (EMIS por sus siglas en inglés), que es una base de datos que contiene información de los mercados emergentes alrededor del mundo. Las compañías en bancarrota fueron analizadas en el período 2000-2012, mientras que las que continuan operando se evaluaron desde 2007 a 2013.\n",
    "\n",
    "En este caso sólo vamos a trabajar con el tercer año de los disponibles. Se puede consultar la página de UCI en donde se encuentra alojado <a href='https://archive.ics.uci.edu/ml/datasets/Polish+companies+bankruptcy+data'> aqui </a> \n",
    "\n",
    "El dataset empleado tiene datos de las empresas y su estatus tres años después."
   ]
  },
  {
   "cell_type": "code",
   "execution_count": 1,
   "metadata": {},
   "outputs": [
    {
     "data": {
      "text/plain": [
       "'0.19.1'"
      ]
     },
     "execution_count": 1,
     "metadata": {},
     "output_type": "execute_result"
    }
   ],
   "source": [
    "import sklearn\n",
    "sklearn.__version__"
   ]
  },
  {
   "cell_type": "code",
   "execution_count": 1,
   "metadata": {
    "colab": {},
    "colab_type": "code",
    "id": "be9V_LltCfiu"
   },
   "outputs": [],
   "source": [
    "import pandas as pd"
   ]
  },
  {
   "cell_type": "code",
   "execution_count": 2,
   "metadata": {
    "colab": {},
    "colab_type": "code",
    "id": "1wb2uNoLCfi1",
    "scrolled": true
   },
   "outputs": [],
   "source": [
    "df = pd.read_csv(\"3year.csv\")"
   ]
  },
  {
   "cell_type": "code",
   "execution_count": 3,
   "metadata": {
    "colab": {},
    "colab_type": "code",
    "id": "Z-fgwsKVCfi6",
    "outputId": "8742bfa1-b1d4-490b-ecc2-e1781b4b53e4"
   },
   "outputs": [
    {
     "data": {
      "text/html": [
       "<div>\n",
       "<style scoped>\n",
       "    .dataframe tbody tr th:only-of-type {\n",
       "        vertical-align: middle;\n",
       "    }\n",
       "\n",
       "    .dataframe tbody tr th {\n",
       "        vertical-align: top;\n",
       "    }\n",
       "\n",
       "    .dataframe thead th {\n",
       "        text-align: right;\n",
       "    }\n",
       "</style>\n",
       "<table border=\"1\" class=\"dataframe\">\n",
       "  <thead>\n",
       "    <tr style=\"text-align: right;\">\n",
       "      <th></th>\n",
       "      <th>Unnamed: 0</th>\n",
       "      <th>Attr1</th>\n",
       "      <th>Attr2</th>\n",
       "      <th>Attr3</th>\n",
       "      <th>Attr4</th>\n",
       "      <th>Attr5</th>\n",
       "      <th>Attr6</th>\n",
       "      <th>Attr7</th>\n",
       "      <th>Attr8</th>\n",
       "      <th>Attr9</th>\n",
       "      <th>...</th>\n",
       "      <th>Attr56</th>\n",
       "      <th>Attr57</th>\n",
       "      <th>Attr58</th>\n",
       "      <th>Attr59</th>\n",
       "      <th>Attr60</th>\n",
       "      <th>Attr61</th>\n",
       "      <th>Attr62</th>\n",
       "      <th>Attr63</th>\n",
       "      <th>Attr64</th>\n",
       "      <th>class</th>\n",
       "    </tr>\n",
       "  </thead>\n",
       "  <tbody>\n",
       "    <tr>\n",
       "      <th>0</th>\n",
       "      <td>0</td>\n",
       "      <td>0.174190</td>\n",
       "      <td>0.41299</td>\n",
       "      <td>0.14371</td>\n",
       "      <td>1.3480</td>\n",
       "      <td>-28.9820</td>\n",
       "      <td>0.60383</td>\n",
       "      <td>0.219460</td>\n",
       "      <td>1.1225</td>\n",
       "      <td>1.1961</td>\n",
       "      <td>...</td>\n",
       "      <td>0.163960</td>\n",
       "      <td>0.375740</td>\n",
       "      <td>0.83604</td>\n",
       "      <td>0.000007</td>\n",
       "      <td>9.7145</td>\n",
       "      <td>6.2813</td>\n",
       "      <td>84.291</td>\n",
       "      <td>4.3303</td>\n",
       "      <td>4.0341</td>\n",
       "      <td>b'0'</td>\n",
       "    </tr>\n",
       "    <tr>\n",
       "      <th>1</th>\n",
       "      <td>1</td>\n",
       "      <td>0.146240</td>\n",
       "      <td>0.46038</td>\n",
       "      <td>0.28230</td>\n",
       "      <td>1.6294</td>\n",
       "      <td>2.5952</td>\n",
       "      <td>0.00000</td>\n",
       "      <td>0.171850</td>\n",
       "      <td>1.1721</td>\n",
       "      <td>1.6018</td>\n",
       "      <td>...</td>\n",
       "      <td>0.027516</td>\n",
       "      <td>0.271000</td>\n",
       "      <td>0.90108</td>\n",
       "      <td>0.000000</td>\n",
       "      <td>5.9882</td>\n",
       "      <td>4.1103</td>\n",
       "      <td>102.190</td>\n",
       "      <td>3.5716</td>\n",
       "      <td>5.9500</td>\n",
       "      <td>b'0'</td>\n",
       "    </tr>\n",
       "    <tr>\n",
       "      <th>2</th>\n",
       "      <td>2</td>\n",
       "      <td>0.000595</td>\n",
       "      <td>0.22612</td>\n",
       "      <td>0.48839</td>\n",
       "      <td>3.1599</td>\n",
       "      <td>84.8740</td>\n",
       "      <td>0.19114</td>\n",
       "      <td>0.004572</td>\n",
       "      <td>2.9881</td>\n",
       "      <td>1.0077</td>\n",
       "      <td>...</td>\n",
       "      <td>0.007639</td>\n",
       "      <td>0.000881</td>\n",
       "      <td>0.99236</td>\n",
       "      <td>0.000000</td>\n",
       "      <td>6.7742</td>\n",
       "      <td>3.7922</td>\n",
       "      <td>64.846</td>\n",
       "      <td>5.6287</td>\n",
       "      <td>4.4581</td>\n",
       "      <td>b'0'</td>\n",
       "    </tr>\n",
       "    <tr>\n",
       "      <th>3</th>\n",
       "      <td>3</td>\n",
       "      <td>0.024526</td>\n",
       "      <td>0.43236</td>\n",
       "      <td>0.27546</td>\n",
       "      <td>1.7833</td>\n",
       "      <td>-10.1050</td>\n",
       "      <td>0.56944</td>\n",
       "      <td>0.024526</td>\n",
       "      <td>1.3057</td>\n",
       "      <td>1.0509</td>\n",
       "      <td>...</td>\n",
       "      <td>0.048398</td>\n",
       "      <td>0.043445</td>\n",
       "      <td>0.95160</td>\n",
       "      <td>0.142980</td>\n",
       "      <td>4.2286</td>\n",
       "      <td>5.0528</td>\n",
       "      <td>98.783</td>\n",
       "      <td>3.6950</td>\n",
       "      <td>3.4844</td>\n",
       "      <td>b'0'</td>\n",
       "    </tr>\n",
       "    <tr>\n",
       "      <th>4</th>\n",
       "      <td>4</td>\n",
       "      <td>0.188290</td>\n",
       "      <td>0.41504</td>\n",
       "      <td>0.34231</td>\n",
       "      <td>1.9279</td>\n",
       "      <td>-58.2740</td>\n",
       "      <td>0.00000</td>\n",
       "      <td>0.233580</td>\n",
       "      <td>1.4094</td>\n",
       "      <td>1.3393</td>\n",
       "      <td>...</td>\n",
       "      <td>0.176480</td>\n",
       "      <td>0.321880</td>\n",
       "      <td>0.82635</td>\n",
       "      <td>0.073039</td>\n",
       "      <td>2.5912</td>\n",
       "      <td>7.0756</td>\n",
       "      <td>100.540</td>\n",
       "      <td>3.6303</td>\n",
       "      <td>4.6375</td>\n",
       "      <td>b'0'</td>\n",
       "    </tr>\n",
       "  </tbody>\n",
       "</table>\n",
       "<p>5 rows × 66 columns</p>\n",
       "</div>"
      ],
      "text/plain": [
       "   Unnamed: 0     Attr1    Attr2    Attr3   Attr4    Attr5    Attr6     Attr7  \\\n",
       "0           0  0.174190  0.41299  0.14371  1.3480 -28.9820  0.60383  0.219460   \n",
       "1           1  0.146240  0.46038  0.28230  1.6294   2.5952  0.00000  0.171850   \n",
       "2           2  0.000595  0.22612  0.48839  3.1599  84.8740  0.19114  0.004572   \n",
       "3           3  0.024526  0.43236  0.27546  1.7833 -10.1050  0.56944  0.024526   \n",
       "4           4  0.188290  0.41504  0.34231  1.9279 -58.2740  0.00000  0.233580   \n",
       "\n",
       "    Attr8   Attr9  ...    Attr56    Attr57   Attr58    Attr59  Attr60  Attr61  \\\n",
       "0  1.1225  1.1961  ...  0.163960  0.375740  0.83604  0.000007  9.7145  6.2813   \n",
       "1  1.1721  1.6018  ...  0.027516  0.271000  0.90108  0.000000  5.9882  4.1103   \n",
       "2  2.9881  1.0077  ...  0.007639  0.000881  0.99236  0.000000  6.7742  3.7922   \n",
       "3  1.3057  1.0509  ...  0.048398  0.043445  0.95160  0.142980  4.2286  5.0528   \n",
       "4  1.4094  1.3393  ...  0.176480  0.321880  0.82635  0.073039  2.5912  7.0756   \n",
       "\n",
       "    Attr62  Attr63  Attr64  class  \n",
       "0   84.291  4.3303  4.0341   b'0'  \n",
       "1  102.190  3.5716  5.9500   b'0'  \n",
       "2   64.846  5.6287  4.4581   b'0'  \n",
       "3   98.783  3.6950  3.4844   b'0'  \n",
       "4  100.540  3.6303  4.6375   b'0'  \n",
       "\n",
       "[5 rows x 66 columns]"
      ]
     },
     "execution_count": 3,
     "metadata": {},
     "output_type": "execute_result"
    }
   ],
   "source": [
    "df.head()"
   ]
  },
  {
   "cell_type": "code",
   "execution_count": 4,
   "metadata": {
    "colab": {},
    "colab_type": "code",
    "id": "DHpJ70GaCfjG"
   },
   "outputs": [],
   "source": [
    "df = df.drop(\"Unnamed: 0\", axis = 1)"
   ]
  },
  {
   "cell_type": "markdown",
   "metadata": {
    "colab_type": "text",
    "id": "6uEKVm-QCfjM"
   },
   "source": [
    "Acá hay una descripción de los atributos\n",
    "\n",
    "X1 net profit / total assets\n",
    "\n",
    "X2 total liabilities / total assets\n",
    "\n",
    "X3 working capital / total assets\n",
    "\n",
    "X4 current assets / short-term liabilities\n",
    "\n",
    "X5 [(cash + short-term securities + receivables - short-term liabilities) / (operating expenses - depreciation)] * 365\n",
    "\n",
    "X6 retained earnings / total assets\n",
    "\n",
    "X7 EBIT / total assets\n",
    "\n",
    "X8 book value of equity / total liabilities\n",
    "\n",
    "X9 sales / total assets\n",
    "\n",
    "X10 equity / total assets\n",
    "\n",
    "X11 (gross profit + extraordinary items + financial expenses) / total assets\n",
    "\n",
    "X12 gross profit / short-term liabilities\n",
    "\n",
    "X13 (gross profit + depreciation) / sales\n",
    "\n",
    "X14 (gross profit + interest) / total assets\n",
    "\n",
    "X15 (total liabilities * 365) / (gross profit + depreciation)\n",
    "\n",
    "X16 (gross profit + depreciation) / total liabilities\n",
    "\n",
    "X17 total assets / total liabilities\n",
    "\n",
    "X18 gross profit / total assets\n",
    "\n",
    "X19 gross profit / sales\n",
    "\n",
    "X20 (inventory * 365) / sales\n",
    "\n",
    "X21 sales (n) / sales (n-1)\n",
    "\n",
    "X22 profit on operating activities / total assets\n",
    "\n",
    "X23 net profit / sales\n",
    "\n",
    "X24 gross profit (in 3 years) / total assets\n",
    "\n",
    "X25 (equity - share capital) / total assets\n",
    "\n",
    "X26 (net profit + depreciation) / total liabilities\n",
    "\n",
    "X27 profit on operating activities / financial expenses\n",
    "\n",
    "X28 working capital / fixed assets\n",
    "\n",
    "X29 logarithm of total assets\n",
    "\n",
    "X30 (total liabilities - cash) / sales\n",
    "\n",
    "X31 (gross profit + interest) / sales\n",
    "\n",
    "X32 (current liabilities * 365) / cost of products sold\n",
    "\n",
    "X33 operating expenses / short-term liabilities\n",
    "\n",
    "X34 operating expenses / total liabilities\n",
    "\n",
    "X35 profit on sales / total assets\n",
    "\n",
    "X36 total sales / total assets\n",
    "\n",
    "X37 (current assets - inventories) / long-term liabilities\n",
    "\n",
    "X38 constant capital / total assets\n",
    "\n",
    "X39 profit on sales / sales\n",
    "\n",
    "X40 (current assets - inventory - receivables) / short-term liabilities\n",
    "\n",
    "X41 total liabilities / ((profit on operating activities + depreciation) * (12/365))\n",
    "\n",
    "X42 profit on operating activities / sales\n",
    "\n",
    "X43 rotation receivables + inventory turnover in days\n",
    "\n",
    "X44 (receivables * 365) / sales\n",
    "\n",
    "X45 net profit / inventory\n",
    "\n",
    "X46 (current assets - inventory) / short-term liabilities\n",
    "\n",
    "X47 (inventory * 365) / cost of products sold\n",
    "\n",
    "X48 EBITDA (profit on operating activities - depreciation) / total assets\n",
    "\n",
    "X49 EBITDA (profit on operating activities - depreciation) / sales\n",
    "\n",
    "X50 current assets / total liabilities\n",
    "\n",
    "X51 short-term liabilities / total assets\n",
    "\n",
    "X52 (short-term liabilities * 365) / cost of products sold)\n",
    "\n",
    "X53 equity / fixed assets\n",
    "\n",
    "X54 constant capital / fixed assets\n",
    "\n",
    "X55 working capital\n",
    "\n",
    "X56 (sales - cost of products sold) / sales\n",
    "\n",
    "X57 (current assets - inventory - short-term liabilities) / (sales - gross profit - depreciation)\n",
    "\n",
    "X58 total costs /total sales\n",
    "\n",
    "X59 long-term liabilities / equity\n",
    "\n",
    "X60 sales / inventory\n",
    "\n",
    "X61 sales / receivables\n",
    "\n",
    "X62 (short-term liabilities *365) / sales\n",
    "\n",
    "X63 sales / short-term liabilities\n",
    "\n",
    "X64 sales / fixed assets"
   ]
  },
  {
   "cell_type": "markdown",
   "metadata": {
    "colab_type": "text",
    "id": "CX2gyjuRCfjO"
   },
   "source": [
    "Transforme la clase en 0 y 1, para ello puede emplear LabelEncoder"
   ]
  },
  {
   "cell_type": "code",
   "execution_count": 5,
   "metadata": {
    "colab": {},
    "colab_type": "code",
    "id": "vlYFzjkxCfjQ"
   },
   "outputs": [],
   "source": [
    "y = df[\"class\"]\n",
    "X = df.drop(\"class\", axis = 1)"
   ]
  },
  {
   "cell_type": "code",
   "execution_count": 6,
   "metadata": {
    "colab": {},
    "colab_type": "code",
    "id": "HNxJ_6nICfjW",
    "outputId": "b7d71128-af01-41c5-a9b2-ff2f9048396c"
   },
   "outputs": [
    {
     "name": "stdout",
     "output_type": "stream",
     "text": [
      "el dataset tiene  10503  filas y  64  columnas\n"
     ]
    }
   ],
   "source": [
    "print(\"el dataset tiene \", X.shape[0], \" filas y \", X.shape[1], \" columnas\")"
   ]
  },
  {
   "cell_type": "code",
   "execution_count": 7,
   "metadata": {
    "colab": {},
    "colab_type": "code",
    "id": "kCvTLZwfCfjh"
   },
   "outputs": [],
   "source": [
    "from sklearn.preprocessing import LabelEncoder"
   ]
  },
  {
   "cell_type": "markdown",
   "metadata": {
    "colab_type": "text",
    "id": "4X_5GBCxCfjt"
   },
   "source": [
    "Usamos LabelEncoder para transformar la clase en un array de 0 y 1"
   ]
  },
  {
   "cell_type": "code",
   "execution_count": 8,
   "metadata": {
    "colab": {},
    "colab_type": "code",
    "id": "QjEdpqdHCfjz"
   },
   "outputs": [],
   "source": [
    "encoder = LabelEncoder()"
   ]
  },
  {
   "cell_type": "code",
   "execution_count": 9,
   "metadata": {
    "colab": {},
    "colab_type": "code",
    "id": "ZNBpDYuKCfj7",
    "outputId": "8a237e60-f330-49c7-d8ff-47249d350e17"
   },
   "outputs": [
    {
     "data": {
      "text/plain": [
       "0    b'0'\n",
       "1    b'0'\n",
       "2    b'0'\n",
       "3    b'0'\n",
       "4    b'0'\n",
       "Name: class, dtype: object"
      ]
     },
     "execution_count": 9,
     "metadata": {},
     "output_type": "execute_result"
    }
   ],
   "source": [
    "y.head()"
   ]
  },
  {
   "cell_type": "code",
   "execution_count": 10,
   "metadata": {
    "colab": {},
    "colab_type": "code",
    "id": "W_OGGsYeCfkJ"
   },
   "outputs": [],
   "source": [
    "y = encoder.fit_transform(y)"
   ]
  },
  {
   "cell_type": "code",
   "execution_count": 11,
   "metadata": {
    "colab": {},
    "colab_type": "code",
    "id": "huMAVxxmCfkT",
    "outputId": "4b3f73b9-86c4-4053-f80d-995ab06a89e6"
   },
   "outputs": [
    {
     "data": {
      "text/plain": [
       "array([0, 0, 0, ..., 1, 1, 1])"
      ]
     },
     "execution_count": 11,
     "metadata": {},
     "output_type": "execute_result"
    }
   ],
   "source": [
    "y"
   ]
  },
  {
   "cell_type": "markdown",
   "metadata": {
    "colab_type": "text",
    "id": "2WF1dvg8Cfkb"
   },
   "source": [
    "Hagamos un split en train y test."
   ]
  },
  {
   "cell_type": "code",
   "execution_count": 12,
   "metadata": {
    "colab": {},
    "colab_type": "code",
    "id": "1NbebhB0Cfkd"
   },
   "outputs": [],
   "source": [
    "from sklearn.model_selection import train_test_split"
   ]
  },
  {
   "cell_type": "markdown",
   "metadata": {
    "colab_type": "text",
    "id": "-qJQ0hoJCfkl"
   },
   "source": [
    "Con la información de train vamos a realizar la búsqueda de hiperparámetros y ajustar el mejor modelo."
   ]
  },
  {
   "cell_type": "code",
   "execution_count": 13,
   "metadata": {
    "colab": {},
    "colab_type": "code",
    "id": "14_X-cEfCfkn"
   },
   "outputs": [],
   "source": [
    "X_train, X_test, y_train, y_test = train_test_split(X,y)"
   ]
  },
  {
   "cell_type": "markdown",
   "metadata": {
    "colab_type": "text",
    "id": "p7-E7RT9Cfkt"
   },
   "source": [
    "## Knn - Benchmark"
   ]
  },
  {
   "cell_type": "markdown",
   "metadata": {
    "colab_type": "text",
    "id": "jc2LJlKvCfkx"
   },
   "source": [
    "Comencemos probando Knn, que será nuestro benchmark"
   ]
  },
  {
   "cell_type": "code",
   "execution_count": 14,
   "metadata": {
    "colab": {},
    "colab_type": "code",
    "id": "sz5h3tJHCfkz"
   },
   "outputs": [],
   "source": [
    "from sklearn.neighbors import KNeighborsClassifier\n",
    "from sklearn.model_selection import RandomizedSearchCV, GridSearchCV\n",
    "import time\n",
    "import numpy as np\n",
    "from sklearn.metrics import roc_auc_score\n",
    "from sklearn.preprocessing import StandardScaler"
   ]
  },
  {
   "cell_type": "code",
   "execution_count": 15,
   "metadata": {
    "colab": {},
    "colab_type": "code",
    "id": "8t7ByXWbCfk5"
   },
   "outputs": [],
   "source": [
    "model_knn = KNeighborsClassifier()"
   ]
  },
  {
   "cell_type": "code",
   "execution_count": 16,
   "metadata": {
    "colab": {},
    "colab_type": "code",
    "id": "tKFNI_pnCfk-"
   },
   "outputs": [],
   "source": [
    "params = {\"n_neighbors\":list(range(3,8))}"
   ]
  },
  {
   "cell_type": "code",
   "execution_count": 17,
   "metadata": {
    "colab": {},
    "colab_type": "code",
    "id": "u0PAYRaxCflD"
   },
   "outputs": [],
   "source": [
    "knn = GridSearchCV(model_knn, params, verbose= True)"
   ]
  },
  {
   "cell_type": "markdown",
   "metadata": {
    "colab_type": "text",
    "id": "89kALPaFCflI"
   },
   "source": [
    "Imputamos los NA con 0"
   ]
  },
  {
   "cell_type": "code",
   "execution_count": 18,
   "metadata": {
    "colab": {},
    "colab_type": "code",
    "id": "-CKnogyJCflJ"
   },
   "outputs": [],
   "source": [
    "X_train_na = X_train.fillna(0)\n",
    "X_test_na = X_test.fillna(0)"
   ]
  },
  {
   "cell_type": "code",
   "execution_count": 19,
   "metadata": {
    "colab": {},
    "colab_type": "code",
    "id": "rfnj6TSJCflR"
   },
   "outputs": [],
   "source": [
    "stds = StandardScaler()"
   ]
  },
  {
   "cell_type": "code",
   "execution_count": 20,
   "metadata": {
    "colab": {},
    "colab_type": "code",
    "id": "fCOp3pyiCflZ"
   },
   "outputs": [],
   "source": [
    "X_train_knn = stds.fit_transform(X_train_na)"
   ]
  },
  {
   "cell_type": "code",
   "execution_count": 21,
   "metadata": {
    "colab": {},
    "colab_type": "code",
    "id": "N1If7LgOCflj"
   },
   "outputs": [],
   "source": [
    "X_test_knn = stds.transform(X_test_na)"
   ]
  },
  {
   "cell_type": "code",
   "execution_count": 22,
   "metadata": {
    "colab": {},
    "colab_type": "code",
    "id": "5sGs5Ou2Cflr",
    "outputId": "246b620b-5146-4a2f-b66a-13881886d0ed"
   },
   "outputs": [
    {
     "name": "stderr",
     "output_type": "stream",
     "text": [
      "/anaconda3/lib/python3.7/site-packages/sklearn/model_selection/_split.py:2053: FutureWarning: You should specify a value for 'cv' instead of relying on the default value. The default value will change from 3 to 5 in version 0.22.\n",
      "  warnings.warn(CV_WARNING, FutureWarning)\n",
      "[Parallel(n_jobs=1)]: Using backend SequentialBackend with 1 concurrent workers.\n"
     ]
    },
    {
     "name": "stdout",
     "output_type": "stream",
     "text": [
      "Fitting 3 folds for each of 5 candidates, totalling 15 fits\n",
      "La búsqueda con knn llevó:  52.132347106933594  segundos\n"
     ]
    },
    {
     "name": "stderr",
     "output_type": "stream",
     "text": [
      "[Parallel(n_jobs=1)]: Done  15 out of  15 | elapsed:   52.1s finished\n"
     ]
    }
   ],
   "source": [
    "start = time.time()\n",
    "knn.fit(X_train_knn, y_train)\n",
    "end = time.time()\n",
    "print(\"La búsqueda con knn llevó: \", end - start, \" segundos\")"
   ]
  },
  {
   "cell_type": "code",
   "execution_count": 23,
   "metadata": {
    "colab": {},
    "colab_type": "code",
    "id": "iMuFY9VLCfl5",
    "outputId": "b4d5177f-2a8b-4867-9ed5-7974478dc86b"
   },
   "outputs": [
    {
     "data": {
      "text/plain": [
       "KNeighborsClassifier(algorithm='auto', leaf_size=30, metric='minkowski',\n",
       "           metric_params=None, n_jobs=None, n_neighbors=4, p=2,\n",
       "           weights='uniform')"
      ]
     },
     "execution_count": 23,
     "metadata": {},
     "output_type": "execute_result"
    }
   ],
   "source": [
    "knn.best_estimator_"
   ]
  },
  {
   "cell_type": "code",
   "execution_count": 24,
   "metadata": {
    "colab": {},
    "colab_type": "code",
    "id": "RF1HPlhrCfmF",
    "outputId": "aaaa04fa-88af-4ce2-bb5f-b3d3e9a14668"
   },
   "outputs": [
    {
     "name": "stdout",
     "output_type": "stream",
     "text": [
      "El valor del AUC es:  0.5538863987517019\n"
     ]
    }
   ],
   "source": [
    "y_predicted_knn = knn.predict_proba(X_test_knn)\n",
    "knn_auc = roc_auc_score(y_test, y_predicted_knn[:,1])\n",
    "print(\"El valor del AUC es: \", knn_auc)"
   ]
  },
  {
   "cell_type": "code",
   "execution_count": 25,
   "metadata": {
    "colab": {},
    "colab_type": "code",
    "collapsed": true,
    "id": "NTKaGpEvCfmW",
    "outputId": "dc5bb102-157b-4830-b057-38326bcd25d1"
   },
   "outputs": [
    {
     "ename": "NameError",
     "evalue": "name 'plot_roc' is not defined",
     "output_type": "error",
     "traceback": [
      "\u001b[0;31m---------------------------------------------------------------------------\u001b[0m",
      "\u001b[0;31mNameError\u001b[0m                                 Traceback (most recent call last)",
      "\u001b[0;32m<ipython-input-25-f6a71c7ed7d0>\u001b[0m in \u001b[0;36m<module>\u001b[0;34m\u001b[0m\n\u001b[1;32m      1\u001b[0m \u001b[0mget_ipython\u001b[0m\u001b[0;34m(\u001b[0m\u001b[0;34m)\u001b[0m\u001b[0;34m.\u001b[0m\u001b[0mrun_line_magic\u001b[0m\u001b[0;34m(\u001b[0m\u001b[0;34m'matplotlib'\u001b[0m\u001b[0;34m,\u001b[0m \u001b[0;34m'inline'\u001b[0m\u001b[0;34m)\u001b[0m\u001b[0;34m\u001b[0m\u001b[0;34m\u001b[0m\u001b[0m\n\u001b[0;32m----> 2\u001b[0;31m \u001b[0mplot_roc\u001b[0m\u001b[0;34m(\u001b[0m\u001b[0my_test\u001b[0m\u001b[0;34m,\u001b[0m\u001b[0my_predicted_knn\u001b[0m\u001b[0;34m,\u001b[0m \u001b[0mplot_micro\u001b[0m \u001b[0;34m=\u001b[0m \u001b[0;32mFalse\u001b[0m\u001b[0;34m,\u001b[0m \u001b[0mplot_macro\u001b[0m\u001b[0;34m=\u001b[0m \u001b[0;32mFalse\u001b[0m\u001b[0;34m)\u001b[0m\u001b[0;34m;\u001b[0m\u001b[0;34m\u001b[0m\u001b[0;34m\u001b[0m\u001b[0m\n\u001b[0m",
      "\u001b[0;31mNameError\u001b[0m: name 'plot_roc' is not defined"
     ]
    }
   ],
   "source": [
    "%matplotlib inline\n",
    "plot_roc(y_test,y_predicted_knn, plot_micro = False, plot_macro= False);"
   ]
  },
  {
   "cell_type": "markdown",
   "metadata": {
    "colab_type": "text",
    "id": "I8oc4fO-Cfmm"
   },
   "source": [
    "## Random Forest"
   ]
  },
  {
   "cell_type": "code",
   "execution_count": 26,
   "metadata": {
    "colab": {},
    "colab_type": "code",
    "id": "6jGbrwx2Cfmo"
   },
   "outputs": [],
   "source": [
    "from sklearn.ensemble import RandomForestClassifier"
   ]
  },
  {
   "cell_type": "code",
   "execution_count": 27,
   "metadata": {
    "colab": {},
    "colab_type": "code",
    "id": "Ie7q1G05Cfmv"
   },
   "outputs": [],
   "source": [
    "model_rf = RandomForestClassifier()"
   ]
  },
  {
   "cell_type": "code",
   "execution_count": 28,
   "metadata": {
    "colab": {},
    "colab_type": "code",
    "id": "7AgkozMgCfm9"
   },
   "outputs": [],
   "source": [
    "import scipy.stats as st"
   ]
  },
  {
   "cell_type": "markdown",
   "metadata": {
    "colab_type": "text",
    "id": "8TasF9wBCfnD"
   },
   "source": [
    "A RandomizedSearchCV los hiperparámetros se los podemos pasar como una lista o también como una distribución de scipy."
   ]
  },
  {
   "cell_type": "code",
   "execution_count": 29,
   "metadata": {
    "colab": {},
    "colab_type": "code",
    "id": "A7gNEjPmCfnF"
   },
   "outputs": [],
   "source": [
    "params = {  \n",
    "    \"n_estimators\": st.randint(20,40), # Number of boosted trees to fit.\n",
    "    \"max_depth\": st.randint(3, 12)     # Maximum tree depth for base learners.\n",
    "}"
   ]
  },
  {
   "cell_type": "code",
   "execution_count": 30,
   "metadata": {
    "colab": {},
    "colab_type": "code",
    "id": "Hc3llpieCfnK"
   },
   "outputs": [],
   "source": [
    "rf = RandomizedSearchCV(model_rf,params, n_iter=25, verbose= True)"
   ]
  },
  {
   "cell_type": "code",
   "execution_count": 31,
   "metadata": {
    "colab": {},
    "colab_type": "code",
    "id": "Y1qHyv0bCfnP",
    "outputId": "8f5bcc72-2230-45dc-a011-970b97b8d91d"
   },
   "outputs": [
    {
     "name": "stderr",
     "output_type": "stream",
     "text": [
      "/anaconda3/lib/python3.7/site-packages/sklearn/model_selection/_split.py:2053: FutureWarning: You should specify a value for 'cv' instead of relying on the default value. The default value will change from 3 to 5 in version 0.22.\n",
      "  warnings.warn(CV_WARNING, FutureWarning)\n",
      "[Parallel(n_jobs=1)]: Using backend SequentialBackend with 1 concurrent workers.\n"
     ]
    },
    {
     "name": "stdout",
     "output_type": "stream",
     "text": [
      "Fitting 3 folds for each of 25 candidates, totalling 75 fits\n"
     ]
    },
    {
     "name": "stderr",
     "output_type": "stream",
     "text": [
      "[Parallel(n_jobs=1)]: Done  75 out of  75 | elapsed:   46.1s finished\n"
     ]
    },
    {
     "name": "stdout",
     "output_type": "stream",
     "text": [
      "La búsqueda con Random Forest llevó:  47.39216995239258  segundos\n"
     ]
    }
   ],
   "source": [
    "start = time.time()\n",
    "rf.fit(X_train_na,y_train)\n",
    "end = time.time()\n",
    "print(\"La búsqueda con Random Forest llevó: \", end - start, \" segundos\")"
   ]
  },
  {
   "cell_type": "code",
   "execution_count": 32,
   "metadata": {
    "colab": {},
    "colab_type": "code",
    "id": "VqZJpwThQJFz",
    "outputId": "dcecf915-dfed-4920-9251-67ec867cc76d"
   },
   "outputs": [
    {
     "data": {
      "text/plain": [
       "RandomForestClassifier(bootstrap=True, class_weight=None, criterion='gini',\n",
       "            max_depth=10, max_features='auto', max_leaf_nodes=None,\n",
       "            min_impurity_decrease=0.0, min_impurity_split=None,\n",
       "            min_samples_leaf=1, min_samples_split=2,\n",
       "            min_weight_fraction_leaf=0.0, n_estimators=32, n_jobs=None,\n",
       "            oob_score=False, random_state=None, verbose=0,\n",
       "            warm_start=False)"
      ]
     },
     "execution_count": 32,
     "metadata": {},
     "output_type": "execute_result"
    }
   ],
   "source": [
    "rf.best_estimator_"
   ]
  },
  {
   "cell_type": "code",
   "execution_count": 33,
   "metadata": {
    "colab": {},
    "colab_type": "code",
    "id": "4cV7_FwtCfnU"
   },
   "outputs": [],
   "source": [
    "y_predicted_rf = rf.predict_proba(X_test_na)"
   ]
  },
  {
   "cell_type": "code",
   "execution_count": 34,
   "metadata": {
    "colab": {},
    "colab_type": "code",
    "id": "JE2mzUH6Cfna",
    "outputId": "f6512b79-5cee-4092-f83c-6ae5313633bf"
   },
   "outputs": [
    {
     "name": "stdout",
     "output_type": "stream",
     "text": [
      "El valor del AUC es:  0.8514402851504536\n"
     ]
    }
   ],
   "source": [
    "rf_auc = roc_auc_score(y_test,y_predicted_rf[:,1])\n",
    "print(\"El valor del AUC es: \", rf_auc)"
   ]
  },
  {
   "cell_type": "code",
   "execution_count": null,
   "metadata": {
    "colab": {},
    "colab_type": "code",
    "id": "Tnc3qH1cQJF6",
    "outputId": "45650aff-8610-428d-e042-eb94bbbb489c"
   },
   "outputs": [
    {
     "data": {
      "image/png": "[encoded data removed]",
      "text/plain": [
       "<Figure size 432x288 with 1 Axes>"
      ]
     },
     "metadata": {
      "needs_background": "light",
      "tags": []
     },
     "output_type": "display_data"
    }
   ],
   "source": [
    "%matplotlib inline\n",
    "plot_roc(y_test,y_predicted_rf, plot_micro = False, plot_macro= False);"
   ]
  },
  {
   "cell_type": "markdown",
   "metadata": {
    "colab_type": "text",
    "id": "xrkS4Qa6Cfng"
   },
   "source": [
    "## Xgboost"
   ]
  },
  {
   "cell_type": "markdown",
   "metadata": {
    "colab_type": "text",
    "id": "4rYpczAKCfnj"
   },
   "source": [
    "Vamos a importar el clasificador XGBoost del módulo xgboost.sklearn que nos provee clases y métodos aceptados por la API de sklearn. La clase que contiene este clasificador se llama XGBClassifier"
   ]
  },
  {
   "cell_type": "code",
   "execution_count": 35,
   "metadata": {
    "colab": {},
    "colab_type": "code",
    "id": "Gmhx9Sy1Cfnk"
   },
   "outputs": [],
   "source": [
    "from xgboost.sklearn import XGBClassifier"
   ]
  },
  {
   "cell_type": "code",
   "execution_count": 36,
   "metadata": {
    "colab": {},
    "colab_type": "code",
    "id": "WFViwA_CCfnp"
   },
   "outputs": [],
   "source": [
    "model_xg = XGBClassifier(n_jobs=-1)"
   ]
  },
  {
   "cell_type": "markdown",
   "metadata": {
    "colab_type": "text",
    "id": "R6tDIBUkCfnt"
   },
   "source": [
    "Podemos partir del siguiente conjunto de hiperparámetros, que serán empleados también luego."
   ]
  },
  {
   "cell_type": "code",
   "execution_count": 37,
   "metadata": {
    "colab": {},
    "colab_type": "code",
    "id": "c3DDm2EwCfnu"
   },
   "outputs": [],
   "source": [
    "one_to_left = st.beta(10, 1) # Esta distribución nos dará valores entre 0 y 1 mayormente cercanos a 1"
   ]
  },
  {
   "cell_type": "code",
   "execution_count": 38,
   "metadata": {
    "colab": {},
    "colab_type": "code",
    "id": "cBQxwRbgCfny"
   },
   "outputs": [],
   "source": [
    "params = {  \n",
    "    \"n_estimators\": st.randint(20,40), # Number of boosted trees to fit.\n",
    "    \"max_depth\": st.randint(3, 12),     # Maximum tree depth for base learners.\n",
    "    \"learning_rate\": st.uniform(0.05, 0.4), #     Boosting learning rate (xgb’s “eta”)\n",
    "    \"colsample_bytree\": one_to_left, #     Subsample ratio of columns when constructing each tree.\n",
    "    \"subsample\": one_to_left,     # Subsample ratio of the training instance.\n",
    "    \"gamma\": st.uniform(0, 10), #     Minimum loss reduction required to make a further partition on a leaf node of the tree.\n",
    "    'reg_alpha': st.uniform(0.05,10),   # L1 regularization term on weights\n",
    "    \"min_child_weight\": st.uniform(1,20), #    Minimum sum of instance weight(hessian) needed in a child.\n",
    "}"
   ]
  },
  {
   "cell_type": "markdown",
   "metadata": {
    "colab_type": "text",
    "id": "YhuMPgwECfn3"
   },
   "source": [
    "Se puede consultar los parámetros <a = \"http://xgboost.readthedocs.io/en/latest/python/python_api.html\"> aquí </a> y <a = \"https://github.com/dmlc/xgboost/blob/master/doc/parameter.md\"> aquí </a>"
   ]
  },
  {
   "cell_type": "markdown",
   "metadata": {
    "colab_type": "text",
    "id": "o7uhuZDACfn4"
   },
   "source": [
    "Realizamos la búsqueda de hiperparámetrosRandomiezSearchCV con 25 iteraciones"
   ]
  },
  {
   "cell_type": "code",
   "execution_count": 39,
   "metadata": {
    "colab": {},
    "colab_type": "code",
    "id": "Oh4zsIulCfn6"
   },
   "outputs": [],
   "source": [
    "xgb = RandomizedSearchCV(model_xg,params, n_iter=25, verbose= True)"
   ]
  },
  {
   "cell_type": "markdown",
   "metadata": {
    "colab_type": "text",
    "id": "nR7UbFK-Cfn9"
   },
   "source": [
    "Busco el mejor set de hiperparámetros y calculamos el tiempo"
   ]
  },
  {
   "cell_type": "markdown",
   "metadata": {
    "colab_type": "text",
    "id": "AKgKeJf9maF8"
   },
   "source": [
    "¿Es necesario normalizar los features antes de aplicar XGBoost?"
   ]
  },
  {
   "cell_type": "code",
   "execution_count": 40,
   "metadata": {
    "colab": {},
    "colab_type": "code",
    "id": "IevW3viRCfn-",
    "outputId": "d1b30fc4-d0d6-4f87-fe2f-94ae5c424d28"
   },
   "outputs": [
    {
     "name": "stderr",
     "output_type": "stream",
     "text": [
      "/anaconda3/lib/python3.7/site-packages/sklearn/model_selection/_split.py:2053: FutureWarning: You should specify a value for 'cv' instead of relying on the default value. The default value will change from 3 to 5 in version 0.22.\n",
      "  warnings.warn(CV_WARNING, FutureWarning)\n",
      "[Parallel(n_jobs=1)]: Using backend SequentialBackend with 1 concurrent workers.\n"
     ]
    },
    {
     "name": "stdout",
     "output_type": "stream",
     "text": [
      "Fitting 3 folds for each of 25 candidates, totalling 75 fits\n"
     ]
    },
    {
     "name": "stderr",
     "output_type": "stream",
     "text": [
      "[Parallel(n_jobs=1)]: Done  75 out of  75 | elapsed:  2.1min finished\n"
     ]
    },
    {
     "name": "stdout",
     "output_type": "stream",
     "text": [
      "La búsqueda con XGBoost llevó:  126.94642210006714  segundos\n"
     ]
    }
   ],
   "source": [
    "start = time.time()\n",
    "xgb.fit(X_train,y_train)\n",
    "end = time.time()\n",
    "print(\"La búsqueda con XGBoost llevó: \", end - start, \" segundos\")"
   ]
  },
  {
   "cell_type": "code",
   "execution_count": 41,
   "metadata": {
    "colab": {},
    "colab_type": "code",
    "id": "TWN_SYVkCfoM"
   },
   "outputs": [],
   "source": [
    "y_predicted_xgb = xgb.predict_proba(X_test)"
   ]
  },
  {
   "cell_type": "code",
   "execution_count": 42,
   "metadata": {
    "colab": {},
    "colab_type": "code",
    "id": "CoC30kJgCfoW",
    "outputId": "32a88e44-2471-4b9a-96f7-8294535dd7dc"
   },
   "outputs": [
    {
     "data": {
      "text/plain": [
       "(2626,)"
      ]
     },
     "execution_count": 42,
     "metadata": {},
     "output_type": "execute_result"
    }
   ],
   "source": [
    "y_predicted_xgb[:,0].shape"
   ]
  },
  {
   "cell_type": "code",
   "execution_count": 43,
   "metadata": {
    "colab": {},
    "colab_type": "code",
    "id": "iSPh4BliCfob",
    "outputId": "bbcae194-4930-4247-85de-2a8dfa40e9b1"
   },
   "outputs": [
    {
     "name": "stdout",
     "output_type": "stream",
     "text": [
      "El valor del AUC es:  0.9158913246340008\n"
     ]
    }
   ],
   "source": [
    "xgb_auc = roc_auc_score(y_test,y_predicted_xgb[:,1])\n",
    "print(\"El valor del AUC es: \", xgb_auc)"
   ]
  },
  {
   "cell_type": "markdown",
   "metadata": {
    "colab_type": "text",
    "id": "9ccsI2ZnCfog"
   },
   "source": [
    "Graficamos la curva ROC por clase"
   ]
  },
  {
   "cell_type": "code",
   "execution_count": null,
   "metadata": {
    "colab": {},
    "colab_type": "code",
    "id": "ttPIpN_iCfoj",
    "outputId": "bddf28c8-dc31-4df9-a2e2-4b79c73ae726"
   },
   "outputs": [
    {
     "data": {
      "image/png": "[encoded data removed]",
      "text/plain": [
       "<Figure size 432x288 with 1 Axes>"
      ]
     },
     "metadata": {
      "needs_background": "light",
      "tags": []
     },
     "output_type": "display_data"
    }
   ],
   "source": [
    "plot_roc(y_test,y_predicted_xgb, plot_micro = False, plot_macro= False);"
   ]
  },
  {
   "cell_type": "code",
   "execution_count": 44,
   "metadata": {
    "colab": {},
    "colab_type": "code",
    "id": "ZIV1v9ukCfor",
    "outputId": "d3530218-f0ce-46b4-8924-8a07665718d9"
   },
   "outputs": [
    {
     "data": {
      "image/png": "[encoded data removed]",
      "text/plain": [
       "<Figure size 432x288 with 1 Axes>"
      ]
     },
     "metadata": {
      "needs_background": "light"
     },
     "output_type": "display_data"
    }
   ],
   "source": [
    "from xgboost import plot_importance\n",
    "plot_importance(xgb.best_estimator_, height = 0.8,max_num_features=5);"
   ]
  },
  {
   "cell_type": "markdown",
   "metadata": {
    "colab_type": "text",
    "id": "edXmEQ96Cfo_"
   },
   "source": [
    "Entonces, los principales atributos son:\n",
    "- profit on operating activities / financial expenses\n",
    "- (current assets - inventory) / short-term liabilities\n",
    "- sales (n) / sales (n-1)\n",
    "- operating expenses / total liabilities\n",
    "- logarithm of total assets"
   ]
  },
  {
   "cell_type": "markdown",
   "metadata": {
    "colab_type": "text",
    "id": "kVbm1chpCfpB"
   },
   "source": [
    "También se pueden acceder los valores directamente con el atributo feature_importances_"
   ]
  },
  {
   "cell_type": "code",
   "execution_count": 45,
   "metadata": {
    "colab": {},
    "colab_type": "code",
    "id": "egdxmzMUCfpD",
    "outputId": "120ff983-5aa0-4357-cacd-605e7718295d",
    "scrolled": true
   },
   "outputs": [
    {
     "name": "stdout",
     "output_type": "stream",
     "text": [
      "[0.0140276  0.01802678 0.01695387 0.01436971 0.01931547 0.01311377\n",
      " 0.01783989 0.         0.01344383 0.01539229 0.0178792  0.\n",
      " 0.0180145  0.         0.01244943 0.01857431 0.         0.\n",
      " 0.01660798 0.01762861 0.03156445 0.02045731 0.01649308 0.01141567\n",
      " 0.01629866 0.01931716 0.03379915 0.01351264 0.01898925 0.01246218\n",
      " 0.01807582 0.04017228 0.02183396 0.03782241 0.0176627  0.0160859\n",
      " 0.01443429 0.01411872 0.01861381 0.01130148 0.01891212 0.0185985\n",
      " 0.00759964 0.02325511 0.00627466 0.0154699  0.0144769  0.01266862\n",
      " 0.03267356 0.01341039 0.01358116 0.01599135 0.0113432  0.\n",
      " 0.01363688 0.03515581 0.01504647 0.01786895 0.00799618 0.01230962\n",
      " 0.01747301 0.01719804 0.         0.01099185]\n"
     ]
    }
   ],
   "source": [
    "print(xgb.best_estimator_.feature_importances_)"
   ]
  },
  {
   "cell_type": "markdown",
   "metadata": {
    "colab_type": "text",
    "id": "oPEjlew9CfpV"
   },
   "source": [
    "## LightGBM"
   ]
  },
  {
   "cell_type": "markdown",
   "metadata": {
    "colab_type": "text",
    "id": "qZrSv-AsCfpb"
   },
   "source": [
    "La librería lightgbm permite directamente interactuar con SciKitLearn"
   ]
  },
  {
   "cell_type": "code",
   "execution_count": 46,
   "metadata": {
    "colab": {},
    "colab_type": "code",
    "id": "BEQsZCsSCfpd"
   },
   "outputs": [
    {
     "name": "stderr",
     "output_type": "stream",
     "text": [
      "/anaconda3/lib/python3.7/site-packages/lightgbm/__init__.py:48: UserWarning: Starting from version 2.2.1, the library file in distribution wheels for macOS is built by the Apple Clang (Xcode_8.3.3) compiler.\n",
      "This means that in case of installing LightGBM from PyPI via the ``pip install lightgbm`` command, you don't need to install the gcc compiler anymore.\n",
      "Instead of that, you need to install the OpenMP library, which is required for running LightGBM on the system with the Apple Clang compiler.\n",
      "You can install the OpenMP library by the following command: ``brew install libomp``.\n",
      "  \"You can install the OpenMP library by the following command: ``brew install libomp``.\", UserWarning)\n"
     ]
    }
   ],
   "source": [
    "import lightgbm as lgb"
   ]
  },
  {
   "cell_type": "code",
   "execution_count": 47,
   "metadata": {
    "colab": {},
    "colab_type": "code",
    "id": "9jWuKhk4Cfpi"
   },
   "outputs": [],
   "source": [
    "model_lgb = lgb.LGBMClassifier()"
   ]
  },
  {
   "cell_type": "markdown",
   "metadata": {
    "colab_type": "text",
    "id": "hgln7ACdlPPs"
   },
   "source": [
    " Usamos los mismos rangos de hiperparámetros que para XGBoost. La lista completa de hiperparámetros se puede consultar <a = \"https://github.com/Microsoft/LightGBM/blob/master/docs/Parameters.rst\"> aquí </a>"
   ]
  },
  {
   "cell_type": "markdown",
   "metadata": {
    "colab_type": "text",
    "id": "MEYvubeLmi6g"
   },
   "source": [
    "¿Es necesario normalizar los features antes de aplicar LightGBM?"
   ]
  },
  {
   "cell_type": "code",
   "execution_count": 48,
   "metadata": {
    "colab": {},
    "colab_type": "code",
    "id": "4h3wCHnRCfpq"
   },
   "outputs": [],
   "source": [
    "lgbm = RandomizedSearchCV(model_lgb, params, n_iter = 25, verbose= True)"
   ]
  },
  {
   "cell_type": "code",
   "execution_count": 49,
   "metadata": {
    "colab": {},
    "colab_type": "code",
    "id": "7KCPi2OXCfp1",
    "outputId": "e894107b-b848-4bc0-b764-2cd67da94cc5"
   },
   "outputs": [
    {
     "name": "stderr",
     "output_type": "stream",
     "text": [
      "/anaconda3/lib/python3.7/site-packages/sklearn/model_selection/_split.py:2053: FutureWarning: You should specify a value for 'cv' instead of relying on the default value. The default value will change from 3 to 5 in version 0.22.\n",
      "  warnings.warn(CV_WARNING, FutureWarning)\n",
      "[Parallel(n_jobs=1)]: Using backend SequentialBackend with 1 concurrent workers.\n"
     ]
    },
    {
     "name": "stdout",
     "output_type": "stream",
     "text": [
      "Fitting 3 folds for each of 25 candidates, totalling 75 fits\n"
     ]
    },
    {
     "name": "stderr",
     "output_type": "stream",
     "text": [
      "[Parallel(n_jobs=1)]: Done  75 out of  75 | elapsed:   15.1s finished\n"
     ]
    },
    {
     "name": "stdout",
     "output_type": "stream",
     "text": [
      "La búsqueda con LightGBM llevó:  15.399824142456055  segundos\n"
     ]
    }
   ],
   "source": [
    "start = time.time()\n",
    "lgbm.fit(X_train, y_train)\n",
    "end = time.time()\n",
    "print(\"La búsqueda con LightGBM llevó: \", end - start, \" segundos\")"
   ]
  },
  {
   "cell_type": "code",
   "execution_count": 50,
   "metadata": {
    "colab": {},
    "colab_type": "code",
    "id": "wUUDAp94Cfp_",
    "outputId": "f0305c43-1663-434a-b5ef-f53f2c3dea70"
   },
   "outputs": [
    {
     "name": "stdout",
     "output_type": "stream",
     "text": [
      "Best parameters found by grid search are: {'colsample_bytree': 0.7201413923358964, 'gamma': 1.7703038411839134, 'learning_rate': 0.16595690496285015, 'max_depth': 8, 'min_child_weight': 2.7580296718104726, 'n_estimators': 36, 'reg_alpha': 0.9285644415036132, 'subsample': 0.9831676096746732}\n"
     ]
    }
   ],
   "source": [
    "print('Best parameters found by grid search are:', lgbm.best_params_)"
   ]
  },
  {
   "cell_type": "code",
   "execution_count": 51,
   "metadata": {
    "colab": {},
    "colab_type": "code",
    "id": "6ZkbfX1LCfqM"
   },
   "outputs": [],
   "source": [
    "opt_lgbm = lgbm.best_estimator_"
   ]
  },
  {
   "cell_type": "code",
   "execution_count": 52,
   "metadata": {
    "colab": {},
    "colab_type": "code",
    "id": "lhdX_Zl0CfqT"
   },
   "outputs": [],
   "source": [
    "y_predicted_lgbm = lgbm.predict_proba(X_test)"
   ]
  },
  {
   "cell_type": "code",
   "execution_count": 53,
   "metadata": {
    "colab": {},
    "colab_type": "code",
    "id": "OVeY3f68CfqY",
    "outputId": "ab63fcde-8ab5-4c9e-daf3-52c935b9bdb0"
   },
   "outputs": [
    {
     "name": "stdout",
     "output_type": "stream",
     "text": [
      "El valor del AUC es:  0.9310743624653888\n"
     ]
    }
   ],
   "source": [
    "lgbm_auc = roc_auc_score(y_test,y_predicted_lgbm[:,1])\n",
    "print(\"El valor del AUC es: \", lgbm_auc)"
   ]
  },
  {
   "cell_type": "code",
   "execution_count": null,
   "metadata": {
    "colab": {},
    "colab_type": "code",
    "id": "VqwFGD2CCfqf",
    "outputId": "a2effc79-716a-48cd-e319-04e66c3ab8e8"
   },
   "outputs": [
    {
     "data": {
      "image/png": "[encoded data removed]",
      "text/plain": [
       "<Figure size 432x288 with 1 Axes>"
      ]
     },
     "metadata": {
      "needs_background": "light",
      "tags": []
     },
     "output_type": "display_data"
    }
   ],
   "source": [
    "plot_roc(y_test,y_predicted_lgbm, plot_micro = False, plot_macro= False);"
   ]
  },
  {
   "cell_type": "code",
   "execution_count": null,
   "metadata": {
    "colab": {},
    "colab_type": "code",
    "id": "qIqifpCOCfqm",
    "outputId": "2827dbcc-0b61-4a52-e812-a8e86708786d"
   },
   "outputs": [
    {
     "data": {
      "image/png": "[encoded data removed]",
      "text/plain": [
       "<Figure size 432x288 with 1 Axes>"
      ]
     },
     "metadata": {
      "needs_background": "light",
      "tags": []
     },
     "output_type": "display_data"
    }
   ],
   "source": [
    "lgb.plot_importance(lgbm.best_estimator_, max_num_features=5);"
   ]
  },
  {
   "cell_type": "code",
   "execution_count": 54,
   "metadata": {
    "colab": {},
    "colab_type": "code",
    "id": "zTjqALTRQJHI",
    "outputId": "b5501a45-0f43-43cb-9fb5-5657c1b49ade"
   },
   "outputs": [
    {
     "data": {
      "text/plain": [
       "array([ 5,  4,  8, 15, 37, 13,  5,  6, 23,  6,  4,  7, 18,  0, 22,  5,  4,\n",
       "        1,  9, 11, 41, 11, 12, 26, 23, 13, 57, 16, 32, 15, 10, 21,  4, 47,\n",
       "       14, 11, 12, 17, 27, 25, 21, 14,  9, 20, 16, 51, 14,  6, 12,  6,  5,\n",
       "        9, 14,  6, 18, 30,  6, 39,  6, 22, 22,  3,  4, 14], dtype=int32)"
      ]
     },
     "execution_count": 54,
     "metadata": {},
     "output_type": "execute_result"
    }
   ],
   "source": [
    "lgbm.best_estimator_.feature_importances_"
   ]
  },
  {
   "cell_type": "markdown",
   "metadata": {
    "colab_type": "text",
    "id": "w7VFD-_5Cfqx"
   },
   "source": [
    "## CatBoost"
   ]
  },
  {
   "cell_type": "code",
   "execution_count": 55,
   "metadata": {
    "colab": {},
    "colab_type": "code",
    "id": "2dSTH5_8Cfqy"
   },
   "outputs": [],
   "source": [
    "from catboost import CatBoostClassifier"
   ]
  },
  {
   "cell_type": "code",
   "execution_count": 56,
   "metadata": {
    "colab": {},
    "colab_type": "code",
    "id": "McipTqbpCfq2"
   },
   "outputs": [],
   "source": [
    "model_cat = CatBoostClassifier()"
   ]
  },
  {
   "cell_type": "markdown",
   "metadata": {
    "colab_type": "text",
    "id": "upFaEVuBmq-E"
   },
   "source": [
    "¿Es necesario normalizar los features antes de aplicar CatBoost?"
   ]
  },
  {
   "cell_type": "markdown",
   "metadata": {
    "colab_type": "text",
    "id": "5fz2fRrZCfq5"
   },
   "source": [
    "Con CatBoost los resultados sin hacer una búsqueda de hiperparámetros ya son... ¡excelentes!"
   ]
  },
  {
   "cell_type": "code",
   "execution_count": 57,
   "metadata": {
    "colab": {},
    "colab_type": "code",
    "id": "Ots7C9sWCfq6",
    "outputId": "efdd7f68-733c-4069-a241-e27d24469913"
   },
   "outputs": [
    {
     "name": "stdout",
     "output_type": "stream",
     "text": [
      "Learning rate set to 0.030047\n",
      "0:\tlearn: 0.6417151\ttotal: 239ms\tremaining: 3m 58s\n",
      "1:\tlearn: 0.6020488\ttotal: 370ms\tremaining: 3m 4s\n",
      "2:\tlearn: 0.5661169\ttotal: 523ms\tremaining: 2m 53s\n",
      "3:\tlearn: 0.5325427\ttotal: 650ms\tremaining: 2m 41s\n",
      "4:\tlearn: 0.4950810\ttotal: 797ms\tremaining: 2m 38s\n",
      "5:\tlearn: 0.4656122\ttotal: 930ms\tremaining: 2m 34s\n",
      "6:\tlearn: 0.4410484\ttotal: 1.08s\tremaining: 2m 32s\n",
      "7:\tlearn: 0.4177664\ttotal: 1.22s\tremaining: 2m 31s\n",
      "8:\tlearn: 0.3965656\ttotal: 1.36s\tremaining: 2m 29s\n",
      "9:\tlearn: 0.3769942\ttotal: 1.49s\tremaining: 2m 27s\n",
      "10:\tlearn: 0.3594045\ttotal: 1.64s\tremaining: 2m 27s\n",
      "11:\tlearn: 0.3435918\ttotal: 1.8s\tremaining: 2m 28s\n",
      "12:\tlearn: 0.3240689\ttotal: 1.95s\tremaining: 2m 28s\n",
      "13:\tlearn: 0.3115604\ttotal: 2.08s\tremaining: 2m 26s\n",
      "14:\tlearn: 0.2971159\ttotal: 2.23s\tremaining: 2m 26s\n",
      "15:\tlearn: 0.2859490\ttotal: 2.36s\tremaining: 2m 25s\n",
      "16:\tlearn: 0.2761391\ttotal: 2.56s\tremaining: 2m 28s\n",
      "17:\tlearn: 0.2643494\ttotal: 2.7s\tremaining: 2m 27s\n",
      "18:\tlearn: 0.2528112\ttotal: 2.85s\tremaining: 2m 27s\n",
      "19:\tlearn: 0.2427200\ttotal: 2.99s\tremaining: 2m 26s\n",
      "20:\tlearn: 0.2321970\ttotal: 3.18s\tremaining: 2m 28s\n",
      "21:\tlearn: 0.2224227\ttotal: 3.36s\tremaining: 2m 29s\n",
      "22:\tlearn: 0.2139341\ttotal: 3.61s\tremaining: 2m 33s\n",
      "23:\tlearn: 0.2093275\ttotal: 3.9s\tremaining: 2m 38s\n",
      "24:\tlearn: 0.2026595\ttotal: 4.16s\tremaining: 2m 42s\n",
      "25:\tlearn: 0.1981373\ttotal: 4.29s\tremaining: 2m 40s\n",
      "26:\tlearn: 0.1946388\ttotal: 4.44s\tremaining: 2m 40s\n",
      "27:\tlearn: 0.1889931\ttotal: 4.57s\tremaining: 2m 38s\n",
      "28:\tlearn: 0.1825983\ttotal: 4.72s\tremaining: 2m 38s\n",
      "29:\tlearn: 0.1783405\ttotal: 4.87s\tremaining: 2m 37s\n",
      "30:\tlearn: 0.1731754\ttotal: 5.04s\tremaining: 2m 37s\n",
      "31:\tlearn: 0.1707143\ttotal: 5.23s\tremaining: 2m 38s\n",
      "32:\tlearn: 0.1687095\ttotal: 5.4s\tremaining: 2m 38s\n",
      "33:\tlearn: 0.1639039\ttotal: 5.54s\tremaining: 2m 37s\n",
      "34:\tlearn: 0.1604631\ttotal: 5.76s\tremaining: 2m 38s\n",
      "35:\tlearn: 0.1590354\ttotal: 5.89s\tremaining: 2m 37s\n",
      "36:\tlearn: 0.1577333\ttotal: 6.06s\tremaining: 2m 37s\n",
      "37:\tlearn: 0.1546112\ttotal: 6.19s\tremaining: 2m 36s\n",
      "38:\tlearn: 0.1515575\ttotal: 6.34s\tremaining: 2m 36s\n",
      "39:\tlearn: 0.1499760\ttotal: 6.47s\tremaining: 2m 35s\n",
      "40:\tlearn: 0.1476195\ttotal: 6.62s\tremaining: 2m 34s\n",
      "41:\tlearn: 0.1461589\ttotal: 6.75s\tremaining: 2m 34s\n",
      "42:\tlearn: 0.1443918\ttotal: 6.91s\tremaining: 2m 33s\n",
      "43:\tlearn: 0.1423269\ttotal: 7.04s\tremaining: 2m 32s\n",
      "44:\tlearn: 0.1408996\ttotal: 7.21s\tremaining: 2m 33s\n",
      "45:\tlearn: 0.1392284\ttotal: 7.37s\tremaining: 2m 32s\n",
      "46:\tlearn: 0.1381927\ttotal: 7.51s\tremaining: 2m 32s\n",
      "47:\tlearn: 0.1365625\ttotal: 7.64s\tremaining: 2m 31s\n",
      "48:\tlearn: 0.1354121\ttotal: 7.79s\tremaining: 2m 31s\n",
      "49:\tlearn: 0.1346705\ttotal: 7.92s\tremaining: 2m 30s\n",
      "50:\tlearn: 0.1337735\ttotal: 8.07s\tremaining: 2m 30s\n",
      "51:\tlearn: 0.1329227\ttotal: 8.2s\tremaining: 2m 29s\n",
      "52:\tlearn: 0.1319959\ttotal: 8.35s\tremaining: 2m 29s\n",
      "53:\tlearn: 0.1301517\ttotal: 8.48s\tremaining: 2m 28s\n",
      "54:\tlearn: 0.1293560\ttotal: 8.63s\tremaining: 2m 28s\n",
      "55:\tlearn: 0.1281508\ttotal: 8.76s\tremaining: 2m 27s\n",
      "56:\tlearn: 0.1267630\ttotal: 8.91s\tremaining: 2m 27s\n",
      "57:\tlearn: 0.1259748\ttotal: 9.05s\tremaining: 2m 26s\n",
      "58:\tlearn: 0.1246443\ttotal: 9.42s\tremaining: 2m 30s\n",
      "59:\tlearn: 0.1238831\ttotal: 9.76s\tremaining: 2m 32s\n",
      "60:\tlearn: 0.1233280\ttotal: 10.2s\tremaining: 2m 37s\n",
      "61:\tlearn: 0.1223315\ttotal: 10.5s\tremaining: 2m 38s\n",
      "62:\tlearn: 0.1217642\ttotal: 10.6s\tremaining: 2m 37s\n",
      "63:\tlearn: 0.1212892\ttotal: 10.8s\tremaining: 2m 37s\n",
      "64:\tlearn: 0.1208597\ttotal: 10.9s\tremaining: 2m 37s\n",
      "65:\tlearn: 0.1203928\ttotal: 11.1s\tremaining: 2m 37s\n",
      "66:\tlearn: 0.1194915\ttotal: 11.3s\tremaining: 2m 36s\n",
      "67:\tlearn: 0.1190415\ttotal: 11.7s\tremaining: 2m 39s\n",
      "68:\tlearn: 0.1185684\ttotal: 12.1s\tremaining: 2m 42s\n",
      "69:\tlearn: 0.1182625\ttotal: 12.3s\tremaining: 2m 43s\n",
      "70:\tlearn: 0.1176787\ttotal: 12.6s\tremaining: 2m 44s\n",
      "71:\tlearn: 0.1172477\ttotal: 12.7s\tremaining: 2m 43s\n",
      "72:\tlearn: 0.1168896\ttotal: 12.9s\tremaining: 2m 43s\n",
      "73:\tlearn: 0.1165776\ttotal: 13s\tremaining: 2m 42s\n",
      "74:\tlearn: 0.1159293\ttotal: 13.2s\tremaining: 2m 42s\n",
      "75:\tlearn: 0.1154071\ttotal: 13.4s\tremaining: 2m 42s\n",
      "76:\tlearn: 0.1149930\ttotal: 13.5s\tremaining: 2m 42s\n",
      "77:\tlearn: 0.1144990\ttotal: 13.7s\tremaining: 2m 41s\n",
      "78:\tlearn: 0.1141763\ttotal: 13.8s\tremaining: 2m 40s\n",
      "79:\tlearn: 0.1138101\ttotal: 14s\tremaining: 2m 40s\n",
      "80:\tlearn: 0.1134817\ttotal: 14.2s\tremaining: 2m 40s\n",
      "81:\tlearn: 0.1132231\ttotal: 14.3s\tremaining: 2m 40s\n",
      "82:\tlearn: 0.1128847\ttotal: 14.4s\tremaining: 2m 39s\n",
      "83:\tlearn: 0.1124214\ttotal: 14.6s\tremaining: 2m 39s\n",
      "84:\tlearn: 0.1120955\ttotal: 14.8s\tremaining: 2m 38s\n",
      "85:\tlearn: 0.1116565\ttotal: 14.9s\tremaining: 2m 38s\n",
      "86:\tlearn: 0.1109274\ttotal: 15s\tremaining: 2m 37s\n",
      "87:\tlearn: 0.1105609\ttotal: 15.2s\tremaining: 2m 37s\n",
      "88:\tlearn: 0.1103089\ttotal: 15.3s\tremaining: 2m 36s\n",
      "89:\tlearn: 0.1098422\ttotal: 15.5s\tremaining: 2m 36s\n",
      "90:\tlearn: 0.1095570\ttotal: 15.7s\tremaining: 2m 36s\n",
      "91:\tlearn: 0.1092228\ttotal: 15.8s\tremaining: 2m 35s\n",
      "92:\tlearn: 0.1085310\ttotal: 15.9s\tremaining: 2m 35s\n",
      "93:\tlearn: 0.1080970\ttotal: 16.1s\tremaining: 2m 34s\n",
      "94:\tlearn: 0.1076581\ttotal: 16.2s\tremaining: 2m 34s\n",
      "95:\tlearn: 0.1069936\ttotal: 16.3s\tremaining: 2m 33s\n",
      "96:\tlearn: 0.1067443\ttotal: 16.5s\tremaining: 2m 33s\n",
      "97:\tlearn: 0.1061079\ttotal: 16.6s\tremaining: 2m 33s\n",
      "98:\tlearn: 0.1059351\ttotal: 16.8s\tremaining: 2m 33s\n",
      "99:\tlearn: 0.1053537\ttotal: 17s\tremaining: 2m 32s\n",
      "100:\tlearn: 0.1049740\ttotal: 17.2s\tremaining: 2m 32s\n",
      "101:\tlearn: 0.1045979\ttotal: 17.3s\tremaining: 2m 32s\n",
      "102:\tlearn: 0.1043664\ttotal: 17.5s\tremaining: 2m 32s\n",
      "103:\tlearn: 0.1041320\ttotal: 17.7s\tremaining: 2m 32s\n",
      "104:\tlearn: 0.1037822\ttotal: 17.8s\tremaining: 2m 31s\n",
      "105:\tlearn: 0.1035762\ttotal: 17.9s\tremaining: 2m 31s\n",
      "106:\tlearn: 0.1033609\ttotal: 18.1s\tremaining: 2m 31s\n",
      "107:\tlearn: 0.1031555\ttotal: 18.3s\tremaining: 2m 30s\n",
      "108:\tlearn: 0.1030971\ttotal: 18.4s\tremaining: 2m 30s\n",
      "109:\tlearn: 0.1029196\ttotal: 18.6s\tremaining: 2m 30s\n",
      "110:\tlearn: 0.1026842\ttotal: 18.7s\tremaining: 2m 29s\n",
      "111:\tlearn: 0.1024470\ttotal: 18.8s\tremaining: 2m 29s\n",
      "112:\tlearn: 0.1018406\ttotal: 19s\tremaining: 2m 29s\n",
      "113:\tlearn: 0.1016071\ttotal: 19.1s\tremaining: 2m 28s\n",
      "114:\tlearn: 0.1014432\ttotal: 19.3s\tremaining: 2m 28s\n",
      "115:\tlearn: 0.1009961\ttotal: 19.4s\tremaining: 2m 27s\n",
      "116:\tlearn: 0.1008479\ttotal: 19.6s\tremaining: 2m 27s\n",
      "117:\tlearn: 0.1006909\ttotal: 19.7s\tremaining: 2m 27s\n",
      "118:\tlearn: 0.1003258\ttotal: 19.9s\tremaining: 2m 27s\n",
      "119:\tlearn: 0.1000637\ttotal: 20s\tremaining: 2m 26s\n",
      "120:\tlearn: 0.0999113\ttotal: 20.1s\tremaining: 2m 26s\n",
      "121:\tlearn: 0.0995237\ttotal: 20.3s\tremaining: 2m 25s\n",
      "122:\tlearn: 0.0992605\ttotal: 20.4s\tremaining: 2m 25s\n",
      "123:\tlearn: 0.0991511\ttotal: 20.6s\tremaining: 2m 25s\n",
      "124:\tlearn: 0.0988830\ttotal: 20.7s\tremaining: 2m 25s\n",
      "125:\tlearn: 0.0987096\ttotal: 20.9s\tremaining: 2m 25s\n",
      "126:\tlearn: 0.0985498\ttotal: 21.1s\tremaining: 2m 24s\n",
      "127:\tlearn: 0.0984267\ttotal: 21.2s\tremaining: 2m 24s\n",
      "128:\tlearn: 0.0983064\ttotal: 21.4s\tremaining: 2m 24s\n",
      "129:\tlearn: 0.0976766\ttotal: 21.5s\tremaining: 2m 24s\n",
      "130:\tlearn: 0.0975519\ttotal: 22s\tremaining: 2m 26s\n",
      "131:\tlearn: 0.0973107\ttotal: 22.5s\tremaining: 2m 28s\n",
      "132:\tlearn: 0.0972062\ttotal: 22.7s\tremaining: 2m 27s\n",
      "133:\tlearn: 0.0970322\ttotal: 22.9s\tremaining: 2m 27s\n",
      "134:\tlearn: 0.0968952\ttotal: 23s\tremaining: 2m 27s\n",
      "135:\tlearn: 0.0965231\ttotal: 23.2s\tremaining: 2m 27s\n",
      "136:\tlearn: 0.0964336\ttotal: 23.3s\tremaining: 2m 27s\n",
      "137:\tlearn: 0.0961911\ttotal: 23.5s\tremaining: 2m 26s\n",
      "138:\tlearn: 0.0960192\ttotal: 23.7s\tremaining: 2m 26s\n",
      "139:\tlearn: 0.0957177\ttotal: 23.8s\tremaining: 2m 26s\n",
      "140:\tlearn: 0.0956288\ttotal: 23.9s\tremaining: 2m 25s\n",
      "141:\tlearn: 0.0953692\ttotal: 24.1s\tremaining: 2m 25s\n",
      "142:\tlearn: 0.0951778\ttotal: 24.3s\tremaining: 2m 25s\n",
      "143:\tlearn: 0.0949777\ttotal: 24.5s\tremaining: 2m 25s\n",
      "144:\tlearn: 0.0947929\ttotal: 24.8s\tremaining: 2m 26s\n",
      "145:\tlearn: 0.0944644\ttotal: 24.9s\tremaining: 2m 25s\n",
      "146:\tlearn: 0.0943405\ttotal: 25.1s\tremaining: 2m 25s\n",
      "147:\tlearn: 0.0940616\ttotal: 25.2s\tremaining: 2m 25s\n",
      "148:\tlearn: 0.0937509\ttotal: 25.4s\tremaining: 2m 24s\n",
      "149:\tlearn: 0.0935362\ttotal: 25.7s\tremaining: 2m 25s\n",
      "150:\tlearn: 0.0933962\ttotal: 25.8s\tremaining: 2m 25s\n",
      "151:\tlearn: 0.0932038\ttotal: 26s\tremaining: 2m 25s\n",
      "152:\tlearn: 0.0929565\ttotal: 26.2s\tremaining: 2m 24s\n",
      "153:\tlearn: 0.0928230\ttotal: 26.3s\tremaining: 2m 24s\n",
      "154:\tlearn: 0.0926956\ttotal: 26.4s\tremaining: 2m 24s\n",
      "155:\tlearn: 0.0920248\ttotal: 26.6s\tremaining: 2m 23s\n",
      "156:\tlearn: 0.0918317\ttotal: 26.7s\tremaining: 2m 23s\n"
     ]
    },
    {
     "name": "stdout",
     "output_type": "stream",
     "text": [
      "157:\tlearn: 0.0917255\ttotal: 26.9s\tremaining: 2m 23s\n",
      "158:\tlearn: 0.0916082\ttotal: 27s\tremaining: 2m 22s\n",
      "159:\tlearn: 0.0913905\ttotal: 27.2s\tremaining: 2m 22s\n",
      "160:\tlearn: 0.0912513\ttotal: 27.3s\tremaining: 2m 22s\n",
      "161:\tlearn: 0.0910117\ttotal: 27.5s\tremaining: 2m 22s\n",
      "162:\tlearn: 0.0909274\ttotal: 27.6s\tremaining: 2m 21s\n",
      "163:\tlearn: 0.0907352\ttotal: 27.8s\tremaining: 2m 21s\n",
      "164:\tlearn: 0.0905281\ttotal: 27.9s\tremaining: 2m 21s\n",
      "165:\tlearn: 0.0904029\ttotal: 28s\tremaining: 2m 20s\n",
      "166:\tlearn: 0.0900971\ttotal: 28.2s\tremaining: 2m 20s\n",
      "167:\tlearn: 0.0900084\ttotal: 28.3s\tremaining: 2m 20s\n",
      "168:\tlearn: 0.0899052\ttotal: 28.4s\tremaining: 2m 19s\n",
      "169:\tlearn: 0.0898268\ttotal: 28.6s\tremaining: 2m 19s\n",
      "170:\tlearn: 0.0896928\ttotal: 28.7s\tremaining: 2m 19s\n",
      "171:\tlearn: 0.0892427\ttotal: 28.8s\tremaining: 2m 18s\n",
      "172:\tlearn: 0.0891019\ttotal: 29s\tremaining: 2m 18s\n",
      "173:\tlearn: 0.0890019\ttotal: 29.1s\tremaining: 2m 18s\n",
      "174:\tlearn: 0.0887367\ttotal: 29.2s\tremaining: 2m 17s\n",
      "175:\tlearn: 0.0885288\ttotal: 29.4s\tremaining: 2m 17s\n",
      "176:\tlearn: 0.0884158\ttotal: 29.5s\tremaining: 2m 17s\n",
      "177:\tlearn: 0.0881051\ttotal: 29.7s\tremaining: 2m 17s\n",
      "178:\tlearn: 0.0880107\ttotal: 30s\tremaining: 2m 17s\n",
      "179:\tlearn: 0.0878446\ttotal: 30.1s\tremaining: 2m 17s\n",
      "180:\tlearn: 0.0877412\ttotal: 30.3s\tremaining: 2m 17s\n",
      "181:\tlearn: 0.0874797\ttotal: 30.5s\tremaining: 2m 16s\n",
      "182:\tlearn: 0.0874105\ttotal: 30.6s\tremaining: 2m 16s\n",
      "183:\tlearn: 0.0872947\ttotal: 30.7s\tremaining: 2m 16s\n",
      "184:\tlearn: 0.0872097\ttotal: 30.9s\tremaining: 2m 16s\n",
      "185:\tlearn: 0.0871009\ttotal: 31s\tremaining: 2m 15s\n",
      "186:\tlearn: 0.0869690\ttotal: 31.1s\tremaining: 2m 15s\n",
      "187:\tlearn: 0.0868482\ttotal: 31.2s\tremaining: 2m 14s\n",
      "188:\tlearn: 0.0867092\ttotal: 31.3s\tremaining: 2m 14s\n",
      "189:\tlearn: 0.0866610\ttotal: 31.4s\tremaining: 2m 13s\n",
      "190:\tlearn: 0.0865985\ttotal: 31.5s\tremaining: 2m 13s\n",
      "191:\tlearn: 0.0865298\ttotal: 31.6s\tremaining: 2m 13s\n",
      "192:\tlearn: 0.0863055\ttotal: 31.7s\tremaining: 2m 12s\n",
      "193:\tlearn: 0.0862030\ttotal: 31.9s\tremaining: 2m 12s\n",
      "194:\tlearn: 0.0861054\ttotal: 32s\tremaining: 2m 12s\n",
      "195:\tlearn: 0.0860018\ttotal: 32.1s\tremaining: 2m 11s\n",
      "196:\tlearn: 0.0858751\ttotal: 32.2s\tremaining: 2m 11s\n",
      "197:\tlearn: 0.0856864\ttotal: 32.4s\tremaining: 2m 11s\n",
      "198:\tlearn: 0.0854991\ttotal: 32.5s\tremaining: 2m 10s\n",
      "199:\tlearn: 0.0854094\ttotal: 32.8s\tremaining: 2m 11s\n",
      "200:\tlearn: 0.0853399\ttotal: 33.1s\tremaining: 2m 11s\n",
      "201:\tlearn: 0.0851319\ttotal: 33.3s\tremaining: 2m 11s\n",
      "202:\tlearn: 0.0850956\ttotal: 33.5s\tremaining: 2m 11s\n",
      "203:\tlearn: 0.0849175\ttotal: 33.8s\tremaining: 2m 11s\n",
      "204:\tlearn: 0.0847978\ttotal: 33.9s\tremaining: 2m 11s\n",
      "205:\tlearn: 0.0845643\ttotal: 34.1s\tremaining: 2m 11s\n",
      "206:\tlearn: 0.0843994\ttotal: 34.3s\tremaining: 2m 11s\n",
      "207:\tlearn: 0.0840512\ttotal: 34.6s\tremaining: 2m 11s\n",
      "208:\tlearn: 0.0840050\ttotal: 34.7s\tremaining: 2m 11s\n",
      "209:\tlearn: 0.0839078\ttotal: 35.1s\tremaining: 2m 11s\n",
      "210:\tlearn: 0.0837903\ttotal: 35.9s\tremaining: 2m 14s\n",
      "211:\tlearn: 0.0836349\ttotal: 36.1s\tremaining: 2m 14s\n",
      "212:\tlearn: 0.0834421\ttotal: 36.4s\tremaining: 2m 14s\n",
      "213:\tlearn: 0.0833102\ttotal: 36.8s\tremaining: 2m 15s\n",
      "214:\tlearn: 0.0831810\ttotal: 37.2s\tremaining: 2m 15s\n",
      "215:\tlearn: 0.0830700\ttotal: 37.4s\tremaining: 2m 15s\n",
      "216:\tlearn: 0.0829808\ttotal: 37.6s\tremaining: 2m 15s\n",
      "217:\tlearn: 0.0828830\ttotal: 38.4s\tremaining: 2m 17s\n",
      "218:\tlearn: 0.0826262\ttotal: 38.6s\tremaining: 2m 17s\n",
      "219:\tlearn: 0.0825643\ttotal: 38.9s\tremaining: 2m 17s\n",
      "220:\tlearn: 0.0824857\ttotal: 39s\tremaining: 2m 17s\n",
      "221:\tlearn: 0.0824362\ttotal: 39.1s\tremaining: 2m 17s\n",
      "222:\tlearn: 0.0823736\ttotal: 39.2s\tremaining: 2m 16s\n",
      "223:\tlearn: 0.0822293\ttotal: 39.3s\tremaining: 2m 16s\n",
      "224:\tlearn: 0.0820394\ttotal: 39.6s\tremaining: 2m 16s\n",
      "225:\tlearn: 0.0818525\ttotal: 39.7s\tremaining: 2m 16s\n",
      "226:\tlearn: 0.0815528\ttotal: 39.9s\tremaining: 2m 15s\n",
      "227:\tlearn: 0.0814284\ttotal: 40s\tremaining: 2m 15s\n",
      "228:\tlearn: 0.0813423\ttotal: 40.9s\tremaining: 2m 17s\n",
      "229:\tlearn: 0.0811843\ttotal: 41.2s\tremaining: 2m 18s\n",
      "230:\tlearn: 0.0811317\ttotal: 41.4s\tremaining: 2m 17s\n",
      "231:\tlearn: 0.0811045\ttotal: 41.5s\tremaining: 2m 17s\n",
      "232:\tlearn: 0.0809028\ttotal: 41.6s\tremaining: 2m 16s\n",
      "233:\tlearn: 0.0807448\ttotal: 41.7s\tremaining: 2m 16s\n",
      "234:\tlearn: 0.0806005\ttotal: 41.9s\tremaining: 2m 16s\n",
      "235:\tlearn: 0.0803565\ttotal: 42.1s\tremaining: 2m 16s\n",
      "236:\tlearn: 0.0802504\ttotal: 42.2s\tremaining: 2m 15s\n",
      "237:\tlearn: 0.0798405\ttotal: 42.5s\tremaining: 2m 15s\n",
      "238:\tlearn: 0.0796757\ttotal: 42.8s\tremaining: 2m 16s\n",
      "239:\tlearn: 0.0795372\ttotal: 43.5s\tremaining: 2m 17s\n",
      "240:\tlearn: 0.0794806\ttotal: 43.7s\tremaining: 2m 17s\n",
      "241:\tlearn: 0.0793961\ttotal: 43.9s\tremaining: 2m 17s\n",
      "242:\tlearn: 0.0791867\ttotal: 44s\tremaining: 2m 17s\n",
      "243:\tlearn: 0.0791001\ttotal: 44.2s\tremaining: 2m 16s\n",
      "244:\tlearn: 0.0788861\ttotal: 44.3s\tremaining: 2m 16s\n",
      "245:\tlearn: 0.0787658\ttotal: 44.5s\tremaining: 2m 16s\n",
      "246:\tlearn: 0.0786492\ttotal: 44.7s\tremaining: 2m 16s\n",
      "247:\tlearn: 0.0785994\ttotal: 44.8s\tremaining: 2m 15s\n",
      "248:\tlearn: 0.0785794\ttotal: 44.9s\tremaining: 2m 15s\n",
      "249:\tlearn: 0.0784734\ttotal: 45s\tremaining: 2m 15s\n",
      "250:\tlearn: 0.0784347\ttotal: 45.2s\tremaining: 2m 14s\n",
      "251:\tlearn: 0.0783258\ttotal: 45.3s\tremaining: 2m 14s\n",
      "252:\tlearn: 0.0782804\ttotal: 45.4s\tremaining: 2m 14s\n",
      "253:\tlearn: 0.0782139\ttotal: 45.6s\tremaining: 2m 13s\n",
      "254:\tlearn: 0.0780349\ttotal: 45.7s\tremaining: 2m 13s\n",
      "255:\tlearn: 0.0779511\ttotal: 46.2s\tremaining: 2m 14s\n",
      "256:\tlearn: 0.0777831\ttotal: 46.5s\tremaining: 2m 14s\n",
      "257:\tlearn: 0.0777322\ttotal: 46.8s\tremaining: 2m 14s\n",
      "258:\tlearn: 0.0775315\ttotal: 47s\tremaining: 2m 14s\n",
      "259:\tlearn: 0.0774515\ttotal: 47.1s\tremaining: 2m 14s\n",
      "260:\tlearn: 0.0774147\ttotal: 47.2s\tremaining: 2m 13s\n",
      "261:\tlearn: 0.0772806\ttotal: 47.4s\tremaining: 2m 13s\n",
      "262:\tlearn: 0.0770438\ttotal: 47.5s\tremaining: 2m 13s\n",
      "263:\tlearn: 0.0769492\ttotal: 47.7s\tremaining: 2m 12s\n",
      "264:\tlearn: 0.0767616\ttotal: 47.8s\tremaining: 2m 12s\n",
      "265:\tlearn: 0.0764591\ttotal: 47.9s\tremaining: 2m 12s\n",
      "266:\tlearn: 0.0763770\ttotal: 48s\tremaining: 2m 11s\n",
      "267:\tlearn: 0.0762721\ttotal: 48.1s\tremaining: 2m 11s\n",
      "268:\tlearn: 0.0762264\ttotal: 48.2s\tremaining: 2m 11s\n",
      "269:\tlearn: 0.0760731\ttotal: 48.3s\tremaining: 2m 10s\n",
      "270:\tlearn: 0.0759856\ttotal: 48.4s\tremaining: 2m 10s\n",
      "271:\tlearn: 0.0758283\ttotal: 48.5s\tremaining: 2m 9s\n",
      "272:\tlearn: 0.0758094\ttotal: 48.6s\tremaining: 2m 9s\n",
      "273:\tlearn: 0.0757620\ttotal: 48.7s\tremaining: 2m 9s\n",
      "274:\tlearn: 0.0756815\ttotal: 48.8s\tremaining: 2m 8s\n",
      "275:\tlearn: 0.0756096\ttotal: 48.9s\tremaining: 2m 8s\n",
      "276:\tlearn: 0.0755017\ttotal: 49s\tremaining: 2m 7s\n",
      "277:\tlearn: 0.0754514\ttotal: 49.1s\tremaining: 2m 7s\n",
      "278:\tlearn: 0.0752848\ttotal: 49.2s\tremaining: 2m 7s\n",
      "279:\tlearn: 0.0752110\ttotal: 49.3s\tremaining: 2m 6s\n",
      "280:\tlearn: 0.0751431\ttotal: 49.4s\tremaining: 2m 6s\n",
      "281:\tlearn: 0.0750240\ttotal: 49.5s\tremaining: 2m 6s\n",
      "282:\tlearn: 0.0749548\ttotal: 49.6s\tremaining: 2m 5s\n",
      "283:\tlearn: 0.0748543\ttotal: 49.7s\tremaining: 2m 5s\n",
      "284:\tlearn: 0.0747581\ttotal: 49.8s\tremaining: 2m 4s\n",
      "285:\tlearn: 0.0746923\ttotal: 49.9s\tremaining: 2m 4s\n",
      "286:\tlearn: 0.0745460\ttotal: 50s\tremaining: 2m 4s\n",
      "287:\tlearn: 0.0744171\ttotal: 50.1s\tremaining: 2m 3s\n",
      "288:\tlearn: 0.0743031\ttotal: 50.2s\tremaining: 2m 3s\n",
      "289:\tlearn: 0.0739034\ttotal: 50.3s\tremaining: 2m 3s\n",
      "290:\tlearn: 0.0737962\ttotal: 50.4s\tremaining: 2m 2s\n",
      "291:\tlearn: 0.0736404\ttotal: 50.5s\tremaining: 2m 2s\n",
      "292:\tlearn: 0.0735757\ttotal: 50.6s\tremaining: 2m 2s\n",
      "293:\tlearn: 0.0733759\ttotal: 50.7s\tremaining: 2m 1s\n",
      "294:\tlearn: 0.0732843\ttotal: 50.8s\tremaining: 2m 1s\n",
      "295:\tlearn: 0.0729366\ttotal: 50.9s\tremaining: 2m 1s\n",
      "296:\tlearn: 0.0727952\ttotal: 51s\tremaining: 2m\n",
      "297:\tlearn: 0.0727039\ttotal: 51.1s\tremaining: 2m\n",
      "298:\tlearn: 0.0724638\ttotal: 51.2s\tremaining: 1m 59s\n",
      "299:\tlearn: 0.0723868\ttotal: 51.3s\tremaining: 1m 59s\n",
      "300:\tlearn: 0.0722685\ttotal: 51.4s\tremaining: 1m 59s\n",
      "301:\tlearn: 0.0720331\ttotal: 51.5s\tremaining: 1m 58s\n",
      "302:\tlearn: 0.0719595\ttotal: 51.5s\tremaining: 1m 58s\n",
      "303:\tlearn: 0.0717940\ttotal: 51.6s\tremaining: 1m 58s\n",
      "304:\tlearn: 0.0717349\ttotal: 51.7s\tremaining: 1m 57s\n",
      "305:\tlearn: 0.0717074\ttotal: 51.8s\tremaining: 1m 57s\n",
      "306:\tlearn: 0.0715960\ttotal: 51.9s\tremaining: 1m 57s\n",
      "307:\tlearn: 0.0713466\ttotal: 52s\tremaining: 1m 56s\n",
      "308:\tlearn: 0.0713209\ttotal: 52.2s\tremaining: 1m 56s\n",
      "309:\tlearn: 0.0712476\ttotal: 52.3s\tremaining: 1m 56s\n",
      "310:\tlearn: 0.0711306\ttotal: 52.4s\tremaining: 1m 56s\n",
      "311:\tlearn: 0.0710690\ttotal: 52.5s\tremaining: 1m 55s\n",
      "312:\tlearn: 0.0709081\ttotal: 52.6s\tremaining: 1m 55s\n"
     ]
    },
    {
     "name": "stdout",
     "output_type": "stream",
     "text": [
      "313:\tlearn: 0.0708412\ttotal: 52.7s\tremaining: 1m 55s\n",
      "314:\tlearn: 0.0706866\ttotal: 52.8s\tremaining: 1m 54s\n",
      "315:\tlearn: 0.0706500\ttotal: 52.9s\tremaining: 1m 54s\n",
      "316:\tlearn: 0.0703588\ttotal: 53s\tremaining: 1m 54s\n",
      "317:\tlearn: 0.0701978\ttotal: 53.1s\tremaining: 1m 53s\n",
      "318:\tlearn: 0.0701298\ttotal: 53.2s\tremaining: 1m 53s\n",
      "319:\tlearn: 0.0699117\ttotal: 53.3s\tremaining: 1m 53s\n",
      "320:\tlearn: 0.0697823\ttotal: 53.4s\tremaining: 1m 52s\n",
      "321:\tlearn: 0.0696921\ttotal: 53.5s\tremaining: 1m 52s\n",
      "322:\tlearn: 0.0696579\ttotal: 53.6s\tremaining: 1m 52s\n",
      "323:\tlearn: 0.0695984\ttotal: 53.7s\tremaining: 1m 51s\n",
      "324:\tlearn: 0.0693851\ttotal: 53.7s\tremaining: 1m 51s\n",
      "325:\tlearn: 0.0692909\ttotal: 53.8s\tremaining: 1m 51s\n",
      "326:\tlearn: 0.0692256\ttotal: 53.9s\tremaining: 1m 50s\n",
      "327:\tlearn: 0.0690544\ttotal: 54s\tremaining: 1m 50s\n",
      "328:\tlearn: 0.0689109\ttotal: 54.1s\tremaining: 1m 50s\n",
      "329:\tlearn: 0.0688274\ttotal: 54.2s\tremaining: 1m 50s\n",
      "330:\tlearn: 0.0687786\ttotal: 54.3s\tremaining: 1m 49s\n",
      "331:\tlearn: 0.0686830\ttotal: 54.4s\tremaining: 1m 49s\n",
      "332:\tlearn: 0.0685871\ttotal: 54.5s\tremaining: 1m 49s\n",
      "333:\tlearn: 0.0685147\ttotal: 54.6s\tremaining: 1m 48s\n",
      "334:\tlearn: 0.0684764\ttotal: 54.7s\tremaining: 1m 48s\n",
      "335:\tlearn: 0.0683453\ttotal: 54.7s\tremaining: 1m 48s\n",
      "336:\tlearn: 0.0682893\ttotal: 54.8s\tremaining: 1m 47s\n",
      "337:\tlearn: 0.0681895\ttotal: 54.9s\tremaining: 1m 47s\n",
      "338:\tlearn: 0.0680606\ttotal: 55s\tremaining: 1m 47s\n",
      "339:\tlearn: 0.0679494\ttotal: 55.1s\tremaining: 1m 46s\n",
      "340:\tlearn: 0.0678839\ttotal: 55.2s\tremaining: 1m 46s\n",
      "341:\tlearn: 0.0678067\ttotal: 55.3s\tremaining: 1m 46s\n",
      "342:\tlearn: 0.0676866\ttotal: 55.4s\tremaining: 1m 46s\n",
      "343:\tlearn: 0.0676314\ttotal: 55.5s\tremaining: 1m 45s\n",
      "344:\tlearn: 0.0675313\ttotal: 55.6s\tremaining: 1m 45s\n",
      "345:\tlearn: 0.0675089\ttotal: 55.6s\tremaining: 1m 45s\n",
      "346:\tlearn: 0.0674428\ttotal: 55.7s\tremaining: 1m 44s\n",
      "347:\tlearn: 0.0673703\ttotal: 55.8s\tremaining: 1m 44s\n",
      "348:\tlearn: 0.0673184\ttotal: 55.9s\tremaining: 1m 44s\n",
      "349:\tlearn: 0.0672698\ttotal: 56s\tremaining: 1m 43s\n",
      "350:\tlearn: 0.0671589\ttotal: 56.1s\tremaining: 1m 43s\n",
      "351:\tlearn: 0.0670127\ttotal: 56.2s\tremaining: 1m 43s\n",
      "352:\tlearn: 0.0669796\ttotal: 56.3s\tremaining: 1m 43s\n",
      "353:\tlearn: 0.0669236\ttotal: 56.3s\tremaining: 1m 42s\n",
      "354:\tlearn: 0.0668315\ttotal: 56.4s\tremaining: 1m 42s\n",
      "355:\tlearn: 0.0667314\ttotal: 56.5s\tremaining: 1m 42s\n",
      "356:\tlearn: 0.0667054\ttotal: 56.6s\tremaining: 1m 41s\n",
      "357:\tlearn: 0.0666174\ttotal: 56.7s\tremaining: 1m 41s\n",
      "358:\tlearn: 0.0665068\ttotal: 56.8s\tremaining: 1m 41s\n",
      "359:\tlearn: 0.0664420\ttotal: 56.9s\tremaining: 1m 41s\n",
      "360:\tlearn: 0.0663949\ttotal: 56.9s\tremaining: 1m 40s\n",
      "361:\tlearn: 0.0663457\ttotal: 57s\tremaining: 1m 40s\n",
      "362:\tlearn: 0.0661255\ttotal: 57.1s\tremaining: 1m 40s\n",
      "363:\tlearn: 0.0660925\ttotal: 57.2s\tremaining: 1m 39s\n",
      "364:\tlearn: 0.0660379\ttotal: 57.3s\tremaining: 1m 39s\n",
      "365:\tlearn: 0.0659818\ttotal: 57.4s\tremaining: 1m 39s\n",
      "366:\tlearn: 0.0658540\ttotal: 57.5s\tremaining: 1m 39s\n",
      "367:\tlearn: 0.0657230\ttotal: 57.6s\tremaining: 1m 38s\n",
      "368:\tlearn: 0.0657036\ttotal: 57.7s\tremaining: 1m 38s\n",
      "369:\tlearn: 0.0656474\ttotal: 57.7s\tremaining: 1m 38s\n",
      "370:\tlearn: 0.0656230\ttotal: 57.8s\tremaining: 1m 38s\n",
      "371:\tlearn: 0.0655064\ttotal: 57.9s\tremaining: 1m 37s\n",
      "372:\tlearn: 0.0653138\ttotal: 58s\tremaining: 1m 37s\n",
      "373:\tlearn: 0.0652524\ttotal: 58.1s\tremaining: 1m 37s\n",
      "374:\tlearn: 0.0651262\ttotal: 58.2s\tremaining: 1m 36s\n",
      "375:\tlearn: 0.0650947\ttotal: 58.3s\tremaining: 1m 36s\n",
      "376:\tlearn: 0.0650004\ttotal: 58.4s\tremaining: 1m 36s\n",
      "377:\tlearn: 0.0649344\ttotal: 58.5s\tremaining: 1m 36s\n",
      "378:\tlearn: 0.0648565\ttotal: 58.6s\tremaining: 1m 35s\n",
      "379:\tlearn: 0.0648413\ttotal: 58.7s\tremaining: 1m 35s\n",
      "380:\tlearn: 0.0648161\ttotal: 58.7s\tremaining: 1m 35s\n",
      "381:\tlearn: 0.0647965\ttotal: 58.8s\tremaining: 1m 35s\n",
      "382:\tlearn: 0.0646800\ttotal: 58.9s\tremaining: 1m 34s\n",
      "383:\tlearn: 0.0646462\ttotal: 59.1s\tremaining: 1m 34s\n",
      "384:\tlearn: 0.0646056\ttotal: 59.3s\tremaining: 1m 34s\n",
      "385:\tlearn: 0.0645561\ttotal: 59.4s\tremaining: 1m 34s\n",
      "386:\tlearn: 0.0644564\ttotal: 59.6s\tremaining: 1m 34s\n",
      "387:\tlearn: 0.0644082\ttotal: 59.8s\tremaining: 1m 34s\n",
      "388:\tlearn: 0.0643534\ttotal: 59.9s\tremaining: 1m 34s\n",
      "389:\tlearn: 0.0642905\ttotal: 60s\tremaining: 1m 33s\n",
      "390:\tlearn: 0.0642197\ttotal: 1m\tremaining: 1m 33s\n",
      "391:\tlearn: 0.0641336\ttotal: 1m\tremaining: 1m 33s\n",
      "392:\tlearn: 0.0640962\ttotal: 1m\tremaining: 1m 33s\n",
      "393:\tlearn: 0.0640722\ttotal: 1m\tremaining: 1m 32s\n",
      "394:\tlearn: 0.0640181\ttotal: 1m\tremaining: 1m 32s\n",
      "395:\tlearn: 0.0639731\ttotal: 1m\tremaining: 1m 32s\n",
      "396:\tlearn: 0.0638911\ttotal: 1m\tremaining: 1m 32s\n",
      "397:\tlearn: 0.0637871\ttotal: 1m\tremaining: 1m 31s\n",
      "398:\tlearn: 0.0636812\ttotal: 1m\tremaining: 1m 31s\n",
      "399:\tlearn: 0.0636390\ttotal: 1m\tremaining: 1m 31s\n",
      "400:\tlearn: 0.0636236\ttotal: 1m\tremaining: 1m 31s\n",
      "401:\tlearn: 0.0635917\ttotal: 1m 1s\tremaining: 1m 30s\n",
      "402:\tlearn: 0.0635738\ttotal: 1m 1s\tremaining: 1m 30s\n",
      "403:\tlearn: 0.0635156\ttotal: 1m 1s\tremaining: 1m 30s\n",
      "404:\tlearn: 0.0634891\ttotal: 1m 1s\tremaining: 1m 30s\n",
      "405:\tlearn: 0.0634180\ttotal: 1m 1s\tremaining: 1m 29s\n",
      "406:\tlearn: 0.0633642\ttotal: 1m 1s\tremaining: 1m 29s\n",
      "407:\tlearn: 0.0632636\ttotal: 1m 1s\tremaining: 1m 29s\n",
      "408:\tlearn: 0.0632372\ttotal: 1m 1s\tremaining: 1m 29s\n",
      "409:\tlearn: 0.0631545\ttotal: 1m 1s\tremaining: 1m 28s\n",
      "410:\tlearn: 0.0631236\ttotal: 1m 1s\tremaining: 1m 28s\n",
      "411:\tlearn: 0.0630618\ttotal: 1m 1s\tremaining: 1m 28s\n",
      "412:\tlearn: 0.0629648\ttotal: 1m 2s\tremaining: 1m 28s\n",
      "413:\tlearn: 0.0629374\ttotal: 1m 2s\tremaining: 1m 27s\n",
      "414:\tlearn: 0.0629154\ttotal: 1m 2s\tremaining: 1m 27s\n",
      "415:\tlearn: 0.0628871\ttotal: 1m 2s\tremaining: 1m 27s\n",
      "416:\tlearn: 0.0628102\ttotal: 1m 2s\tremaining: 1m 27s\n",
      "417:\tlearn: 0.0626716\ttotal: 1m 2s\tremaining: 1m 26s\n",
      "418:\tlearn: 0.0626578\ttotal: 1m 2s\tremaining: 1m 26s\n",
      "419:\tlearn: 0.0626013\ttotal: 1m 2s\tremaining: 1m 26s\n",
      "420:\tlearn: 0.0624986\ttotal: 1m 2s\tremaining: 1m 26s\n",
      "421:\tlearn: 0.0624716\ttotal: 1m 2s\tremaining: 1m 26s\n",
      "422:\tlearn: 0.0624593\ttotal: 1m 2s\tremaining: 1m 25s\n",
      "423:\tlearn: 0.0623737\ttotal: 1m 2s\tremaining: 1m 25s\n",
      "424:\tlearn: 0.0623401\ttotal: 1m 3s\tremaining: 1m 25s\n",
      "425:\tlearn: 0.0623265\ttotal: 1m 3s\tremaining: 1m 25s\n",
      "426:\tlearn: 0.0622900\ttotal: 1m 3s\tremaining: 1m 24s\n",
      "427:\tlearn: 0.0622224\ttotal: 1m 3s\tremaining: 1m 24s\n",
      "428:\tlearn: 0.0621245\ttotal: 1m 3s\tremaining: 1m 24s\n",
      "429:\tlearn: 0.0620409\ttotal: 1m 3s\tremaining: 1m 24s\n",
      "430:\tlearn: 0.0619701\ttotal: 1m 3s\tremaining: 1m 24s\n",
      "431:\tlearn: 0.0619023\ttotal: 1m 3s\tremaining: 1m 24s\n",
      "432:\tlearn: 0.0618497\ttotal: 1m 4s\tremaining: 1m 23s\n",
      "433:\tlearn: 0.0618244\ttotal: 1m 4s\tremaining: 1m 23s\n",
      "434:\tlearn: 0.0618025\ttotal: 1m 4s\tremaining: 1m 23s\n",
      "435:\tlearn: 0.0617603\ttotal: 1m 4s\tremaining: 1m 23s\n",
      "436:\tlearn: 0.0617235\ttotal: 1m 4s\tremaining: 1m 23s\n",
      "437:\tlearn: 0.0616548\ttotal: 1m 4s\tremaining: 1m 22s\n",
      "438:\tlearn: 0.0615554\ttotal: 1m 4s\tremaining: 1m 22s\n",
      "439:\tlearn: 0.0614261\ttotal: 1m 4s\tremaining: 1m 22s\n",
      "440:\tlearn: 0.0610972\ttotal: 1m 4s\tremaining: 1m 22s\n",
      "441:\tlearn: 0.0610585\ttotal: 1m 4s\tremaining: 1m 21s\n",
      "442:\tlearn: 0.0610521\ttotal: 1m 5s\tremaining: 1m 21s\n",
      "443:\tlearn: 0.0609349\ttotal: 1m 5s\tremaining: 1m 21s\n",
      "444:\tlearn: 0.0609019\ttotal: 1m 5s\tremaining: 1m 21s\n",
      "445:\tlearn: 0.0607946\ttotal: 1m 5s\tremaining: 1m 21s\n",
      "446:\tlearn: 0.0607315\ttotal: 1m 5s\tremaining: 1m 20s\n",
      "447:\tlearn: 0.0606851\ttotal: 1m 5s\tremaining: 1m 20s\n",
      "448:\tlearn: 0.0606704\ttotal: 1m 5s\tremaining: 1m 20s\n",
      "449:\tlearn: 0.0606011\ttotal: 1m 5s\tremaining: 1m 20s\n",
      "450:\tlearn: 0.0605754\ttotal: 1m 5s\tremaining: 1m 20s\n",
      "451:\tlearn: 0.0605008\ttotal: 1m 5s\tremaining: 1m 19s\n",
      "452:\tlearn: 0.0604620\ttotal: 1m 6s\tremaining: 1m 19s\n",
      "453:\tlearn: 0.0603788\ttotal: 1m 6s\tremaining: 1m 19s\n",
      "454:\tlearn: 0.0603081\ttotal: 1m 6s\tremaining: 1m 19s\n",
      "455:\tlearn: 0.0602470\ttotal: 1m 6s\tremaining: 1m 19s\n",
      "456:\tlearn: 0.0602159\ttotal: 1m 6s\tremaining: 1m 19s\n",
      "457:\tlearn: 0.0601666\ttotal: 1m 6s\tremaining: 1m 18s\n",
      "458:\tlearn: 0.0601131\ttotal: 1m 6s\tremaining: 1m 18s\n",
      "459:\tlearn: 0.0600489\ttotal: 1m 7s\tremaining: 1m 18s\n",
      "460:\tlearn: 0.0600228\ttotal: 1m 7s\tremaining: 1m 18s\n",
      "461:\tlearn: 0.0599875\ttotal: 1m 7s\tremaining: 1m 18s\n",
      "462:\tlearn: 0.0599784\ttotal: 1m 7s\tremaining: 1m 18s\n",
      "463:\tlearn: 0.0599140\ttotal: 1m 7s\tremaining: 1m 18s\n",
      "464:\tlearn: 0.0598694\ttotal: 1m 7s\tremaining: 1m 18s\n",
      "465:\tlearn: 0.0598223\ttotal: 1m 7s\tremaining: 1m 17s\n",
      "466:\tlearn: 0.0597666\ttotal: 1m 8s\tremaining: 1m 17s\n",
      "467:\tlearn: 0.0597377\ttotal: 1m 8s\tremaining: 1m 17s\n",
      "468:\tlearn: 0.0596561\ttotal: 1m 8s\tremaining: 1m 17s\n"
     ]
    },
    {
     "name": "stdout",
     "output_type": "stream",
     "text": [
      "469:\tlearn: 0.0596453\ttotal: 1m 8s\tremaining: 1m 17s\n",
      "470:\tlearn: 0.0595753\ttotal: 1m 9s\tremaining: 1m 18s\n",
      "471:\tlearn: 0.0595302\ttotal: 1m 9s\tremaining: 1m 17s\n",
      "472:\tlearn: 0.0592880\ttotal: 1m 9s\tremaining: 1m 17s\n",
      "473:\tlearn: 0.0592585\ttotal: 1m 10s\tremaining: 1m 17s\n",
      "474:\tlearn: 0.0592453\ttotal: 1m 10s\tremaining: 1m 17s\n",
      "475:\tlearn: 0.0592136\ttotal: 1m 10s\tremaining: 1m 17s\n",
      "476:\tlearn: 0.0591347\ttotal: 1m 10s\tremaining: 1m 17s\n",
      "477:\tlearn: 0.0590981\ttotal: 1m 10s\tremaining: 1m 17s\n",
      "478:\tlearn: 0.0589805\ttotal: 1m 10s\tremaining: 1m 17s\n",
      "479:\tlearn: 0.0589634\ttotal: 1m 11s\tremaining: 1m 16s\n",
      "480:\tlearn: 0.0588939\ttotal: 1m 11s\tremaining: 1m 16s\n",
      "481:\tlearn: 0.0587592\ttotal: 1m 11s\tremaining: 1m 16s\n",
      "482:\tlearn: 0.0587290\ttotal: 1m 11s\tremaining: 1m 16s\n",
      "483:\tlearn: 0.0586841\ttotal: 1m 11s\tremaining: 1m 16s\n",
      "484:\tlearn: 0.0586778\ttotal: 1m 11s\tremaining: 1m 16s\n",
      "485:\tlearn: 0.0585402\ttotal: 1m 11s\tremaining: 1m 16s\n",
      "486:\tlearn: 0.0584942\ttotal: 1m 12s\tremaining: 1m 15s\n",
      "487:\tlearn: 0.0584355\ttotal: 1m 12s\tremaining: 1m 15s\n",
      "488:\tlearn: 0.0583810\ttotal: 1m 12s\tremaining: 1m 15s\n",
      "489:\tlearn: 0.0583486\ttotal: 1m 12s\tremaining: 1m 15s\n",
      "490:\tlearn: 0.0583273\ttotal: 1m 12s\tremaining: 1m 15s\n",
      "491:\tlearn: 0.0583040\ttotal: 1m 12s\tremaining: 1m 14s\n",
      "492:\tlearn: 0.0581207\ttotal: 1m 12s\tremaining: 1m 14s\n",
      "493:\tlearn: 0.0580907\ttotal: 1m 12s\tremaining: 1m 14s\n",
      "494:\tlearn: 0.0579881\ttotal: 1m 12s\tremaining: 1m 14s\n",
      "495:\tlearn: 0.0579626\ttotal: 1m 12s\tremaining: 1m 14s\n",
      "496:\tlearn: 0.0578717\ttotal: 1m 12s\tremaining: 1m 13s\n",
      "497:\tlearn: 0.0578016\ttotal: 1m 13s\tremaining: 1m 13s\n",
      "498:\tlearn: 0.0577288\ttotal: 1m 13s\tremaining: 1m 13s\n",
      "499:\tlearn: 0.0577015\ttotal: 1m 13s\tremaining: 1m 13s\n",
      "500:\tlearn: 0.0576642\ttotal: 1m 13s\tremaining: 1m 13s\n",
      "501:\tlearn: 0.0576569\ttotal: 1m 13s\tremaining: 1m 12s\n",
      "502:\tlearn: 0.0576004\ttotal: 1m 13s\tremaining: 1m 12s\n",
      "503:\tlearn: 0.0574898\ttotal: 1m 13s\tremaining: 1m 12s\n",
      "504:\tlearn: 0.0574779\ttotal: 1m 13s\tremaining: 1m 12s\n",
      "505:\tlearn: 0.0574560\ttotal: 1m 13s\tremaining: 1m 12s\n",
      "506:\tlearn: 0.0574318\ttotal: 1m 13s\tremaining: 1m 11s\n",
      "507:\tlearn: 0.0574012\ttotal: 1m 13s\tremaining: 1m 11s\n",
      "508:\tlearn: 0.0573911\ttotal: 1m 14s\tremaining: 1m 11s\n",
      "509:\tlearn: 0.0572693\ttotal: 1m 14s\tremaining: 1m 11s\n",
      "510:\tlearn: 0.0572106\ttotal: 1m 14s\tremaining: 1m 11s\n",
      "511:\tlearn: 0.0571319\ttotal: 1m 14s\tremaining: 1m 10s\n",
      "512:\tlearn: 0.0570444\ttotal: 1m 14s\tremaining: 1m 10s\n",
      "513:\tlearn: 0.0570109\ttotal: 1m 14s\tremaining: 1m 10s\n",
      "514:\tlearn: 0.0569835\ttotal: 1m 14s\tremaining: 1m 10s\n",
      "515:\tlearn: 0.0569649\ttotal: 1m 14s\tremaining: 1m 10s\n",
      "516:\tlearn: 0.0569460\ttotal: 1m 14s\tremaining: 1m 9s\n",
      "517:\tlearn: 0.0569236\ttotal: 1m 14s\tremaining: 1m 9s\n",
      "518:\tlearn: 0.0568617\ttotal: 1m 14s\tremaining: 1m 9s\n",
      "519:\tlearn: 0.0567313\ttotal: 1m 14s\tremaining: 1m 9s\n",
      "520:\tlearn: 0.0566411\ttotal: 1m 15s\tremaining: 1m 9s\n",
      "521:\tlearn: 0.0566176\ttotal: 1m 15s\tremaining: 1m 8s\n",
      "522:\tlearn: 0.0565915\ttotal: 1m 15s\tremaining: 1m 8s\n",
      "523:\tlearn: 0.0565520\ttotal: 1m 15s\tremaining: 1m 8s\n",
      "524:\tlearn: 0.0564094\ttotal: 1m 15s\tremaining: 1m 8s\n",
      "525:\tlearn: 0.0563809\ttotal: 1m 15s\tremaining: 1m 8s\n",
      "526:\tlearn: 0.0563452\ttotal: 1m 15s\tremaining: 1m 7s\n",
      "527:\tlearn: 0.0563244\ttotal: 1m 15s\tremaining: 1m 7s\n",
      "528:\tlearn: 0.0562359\ttotal: 1m 15s\tremaining: 1m 7s\n",
      "529:\tlearn: 0.0561621\ttotal: 1m 16s\tremaining: 1m 7s\n",
      "530:\tlearn: 0.0561124\ttotal: 1m 16s\tremaining: 1m 7s\n",
      "531:\tlearn: 0.0560142\ttotal: 1m 16s\tremaining: 1m 7s\n",
      "532:\tlearn: 0.0558342\ttotal: 1m 16s\tremaining: 1m 6s\n",
      "533:\tlearn: 0.0557292\ttotal: 1m 16s\tremaining: 1m 6s\n",
      "534:\tlearn: 0.0556189\ttotal: 1m 16s\tremaining: 1m 6s\n",
      "535:\tlearn: 0.0556073\ttotal: 1m 16s\tremaining: 1m 6s\n",
      "536:\tlearn: 0.0554570\ttotal: 1m 16s\tremaining: 1m 6s\n",
      "537:\tlearn: 0.0553521\ttotal: 1m 16s\tremaining: 1m 5s\n",
      "538:\tlearn: 0.0552795\ttotal: 1m 16s\tremaining: 1m 5s\n",
      "539:\tlearn: 0.0552335\ttotal: 1m 16s\tremaining: 1m 5s\n",
      "540:\tlearn: 0.0552050\ttotal: 1m 17s\tremaining: 1m 5s\n",
      "541:\tlearn: 0.0551856\ttotal: 1m 17s\tremaining: 1m 5s\n",
      "542:\tlearn: 0.0551519\ttotal: 1m 17s\tremaining: 1m 5s\n",
      "543:\tlearn: 0.0551194\ttotal: 1m 17s\tremaining: 1m 4s\n",
      "544:\tlearn: 0.0550301\ttotal: 1m 17s\tremaining: 1m 4s\n",
      "545:\tlearn: 0.0549010\ttotal: 1m 17s\tremaining: 1m 4s\n",
      "546:\tlearn: 0.0548917\ttotal: 1m 17s\tremaining: 1m 4s\n",
      "547:\tlearn: 0.0548620\ttotal: 1m 17s\tremaining: 1m 4s\n",
      "548:\tlearn: 0.0548223\ttotal: 1m 18s\tremaining: 1m 4s\n",
      "549:\tlearn: 0.0547321\ttotal: 1m 18s\tremaining: 1m 3s\n",
      "550:\tlearn: 0.0546065\ttotal: 1m 18s\tremaining: 1m 3s\n",
      "551:\tlearn: 0.0545890\ttotal: 1m 18s\tremaining: 1m 3s\n",
      "552:\tlearn: 0.0545216\ttotal: 1m 18s\tremaining: 1m 3s\n",
      "553:\tlearn: 0.0544712\ttotal: 1m 18s\tremaining: 1m 3s\n",
      "554:\tlearn: 0.0544187\ttotal: 1m 18s\tremaining: 1m 3s\n",
      "555:\tlearn: 0.0543952\ttotal: 1m 18s\tremaining: 1m 2s\n",
      "556:\tlearn: 0.0543548\ttotal: 1m 18s\tremaining: 1m 2s\n",
      "557:\tlearn: 0.0543418\ttotal: 1m 19s\tremaining: 1m 2s\n",
      "558:\tlearn: 0.0542366\ttotal: 1m 19s\tremaining: 1m 2s\n",
      "559:\tlearn: 0.0541772\ttotal: 1m 19s\tremaining: 1m 2s\n",
      "560:\tlearn: 0.0541684\ttotal: 1m 19s\tremaining: 1m 2s\n",
      "561:\tlearn: 0.0541117\ttotal: 1m 19s\tremaining: 1m 1s\n",
      "562:\tlearn: 0.0541033\ttotal: 1m 19s\tremaining: 1m 1s\n",
      "563:\tlearn: 0.0540936\ttotal: 1m 19s\tremaining: 1m 1s\n",
      "564:\tlearn: 0.0540796\ttotal: 1m 19s\tremaining: 1m 1s\n",
      "565:\tlearn: 0.0539428\ttotal: 1m 19s\tremaining: 1m 1s\n",
      "566:\tlearn: 0.0539255\ttotal: 1m 20s\tremaining: 1m 1s\n",
      "567:\tlearn: 0.0538959\ttotal: 1m 20s\tremaining: 1m\n",
      "568:\tlearn: 0.0536977\ttotal: 1m 20s\tremaining: 1m\n",
      "569:\tlearn: 0.0536770\ttotal: 1m 20s\tremaining: 1m\n",
      "570:\tlearn: 0.0536400\ttotal: 1m 20s\tremaining: 1m\n",
      "571:\tlearn: 0.0536262\ttotal: 1m 20s\tremaining: 1m\n",
      "572:\tlearn: 0.0536068\ttotal: 1m 20s\tremaining: 1m\n",
      "573:\tlearn: 0.0535290\ttotal: 1m 20s\tremaining: 59.9s\n",
      "574:\tlearn: 0.0535184\ttotal: 1m 20s\tremaining: 59.7s\n",
      "575:\tlearn: 0.0534515\ttotal: 1m 20s\tremaining: 59.5s\n",
      "576:\tlearn: 0.0534476\ttotal: 1m 20s\tremaining: 59.3s\n",
      "577:\tlearn: 0.0533547\ttotal: 1m 21s\tremaining: 59.2s\n",
      "578:\tlearn: 0.0532635\ttotal: 1m 21s\tremaining: 59s\n",
      "579:\tlearn: 0.0531582\ttotal: 1m 21s\tremaining: 58.8s\n",
      "580:\tlearn: 0.0531250\ttotal: 1m 21s\tremaining: 58.6s\n",
      "581:\tlearn: 0.0531054\ttotal: 1m 21s\tremaining: 58.5s\n",
      "582:\tlearn: 0.0529768\ttotal: 1m 21s\tremaining: 58.3s\n",
      "583:\tlearn: 0.0529303\ttotal: 1m 21s\tremaining: 58.1s\n",
      "584:\tlearn: 0.0529071\ttotal: 1m 21s\tremaining: 57.9s\n",
      "585:\tlearn: 0.0527753\ttotal: 1m 21s\tremaining: 57.8s\n",
      "586:\tlearn: 0.0527510\ttotal: 1m 21s\tremaining: 57.6s\n",
      "587:\tlearn: 0.0526935\ttotal: 1m 21s\tremaining: 57.4s\n",
      "588:\tlearn: 0.0526255\ttotal: 1m 22s\tremaining: 57.2s\n",
      "589:\tlearn: 0.0526069\ttotal: 1m 22s\tremaining: 57.1s\n",
      "590:\tlearn: 0.0525818\ttotal: 1m 22s\tremaining: 56.9s\n",
      "591:\tlearn: 0.0525711\ttotal: 1m 22s\tremaining: 56.7s\n",
      "592:\tlearn: 0.0525174\ttotal: 1m 22s\tremaining: 56.6s\n",
      "593:\tlearn: 0.0524628\ttotal: 1m 22s\tremaining: 56.4s\n",
      "594:\tlearn: 0.0522623\ttotal: 1m 22s\tremaining: 56.2s\n",
      "595:\tlearn: 0.0521500\ttotal: 1m 22s\tremaining: 56.1s\n",
      "596:\tlearn: 0.0521106\ttotal: 1m 22s\tremaining: 55.9s\n",
      "597:\tlearn: 0.0520635\ttotal: 1m 22s\tremaining: 55.7s\n",
      "598:\tlearn: 0.0520522\ttotal: 1m 22s\tremaining: 55.5s\n",
      "599:\tlearn: 0.0520275\ttotal: 1m 23s\tremaining: 55.4s\n",
      "600:\tlearn: 0.0519779\ttotal: 1m 23s\tremaining: 55.2s\n",
      "601:\tlearn: 0.0519736\ttotal: 1m 23s\tremaining: 55s\n",
      "602:\tlearn: 0.0519650\ttotal: 1m 23s\tremaining: 54.9s\n",
      "603:\tlearn: 0.0518952\ttotal: 1m 23s\tremaining: 54.8s\n",
      "604:\tlearn: 0.0518611\ttotal: 1m 23s\tremaining: 54.7s\n",
      "605:\tlearn: 0.0518016\ttotal: 1m 23s\tremaining: 54.5s\n",
      "606:\tlearn: 0.0517605\ttotal: 1m 23s\tremaining: 54.4s\n",
      "607:\tlearn: 0.0516503\ttotal: 1m 24s\tremaining: 54.2s\n",
      "608:\tlearn: 0.0516122\ttotal: 1m 24s\tremaining: 54.1s\n",
      "609:\tlearn: 0.0515946\ttotal: 1m 24s\tremaining: 54s\n",
      "610:\tlearn: 0.0515881\ttotal: 1m 24s\tremaining: 53.8s\n",
      "611:\tlearn: 0.0515727\ttotal: 1m 24s\tremaining: 53.6s\n",
      "612:\tlearn: 0.0514846\ttotal: 1m 24s\tremaining: 53.5s\n",
      "613:\tlearn: 0.0514402\ttotal: 1m 24s\tremaining: 53.3s\n",
      "614:\tlearn: 0.0514069\ttotal: 1m 24s\tremaining: 53.2s\n",
      "615:\tlearn: 0.0513700\ttotal: 1m 25s\tremaining: 53s\n",
      "616:\tlearn: 0.0513423\ttotal: 1m 25s\tremaining: 52.9s\n",
      "617:\tlearn: 0.0513256\ttotal: 1m 25s\tremaining: 52.7s\n",
      "618:\tlearn: 0.0512699\ttotal: 1m 25s\tremaining: 52.5s\n",
      "619:\tlearn: 0.0512012\ttotal: 1m 25s\tremaining: 52.4s\n",
      "620:\tlearn: 0.0511838\ttotal: 1m 25s\tremaining: 52.2s\n",
      "621:\tlearn: 0.0511703\ttotal: 1m 25s\tremaining: 52.1s\n",
      "622:\tlearn: 0.0511063\ttotal: 1m 25s\tremaining: 51.9s\n",
      "623:\tlearn: 0.0510707\ttotal: 1m 25s\tremaining: 51.7s\n",
      "624:\tlearn: 0.0510428\ttotal: 1m 25s\tremaining: 51.6s\n",
      "625:\tlearn: 0.0510308\ttotal: 1m 26s\tremaining: 51.4s\n"
     ]
    },
    {
     "name": "stdout",
     "output_type": "stream",
     "text": [
      "626:\tlearn: 0.0510029\ttotal: 1m 26s\tremaining: 51.2s\n",
      "627:\tlearn: 0.0509543\ttotal: 1m 26s\tremaining: 51.1s\n",
      "628:\tlearn: 0.0509026\ttotal: 1m 26s\tremaining: 50.9s\n",
      "629:\tlearn: 0.0508910\ttotal: 1m 26s\tremaining: 50.8s\n",
      "630:\tlearn: 0.0508775\ttotal: 1m 26s\tremaining: 50.6s\n",
      "631:\tlearn: 0.0507611\ttotal: 1m 26s\tremaining: 50.4s\n",
      "632:\tlearn: 0.0507479\ttotal: 1m 26s\tremaining: 50.3s\n",
      "633:\tlearn: 0.0507216\ttotal: 1m 26s\tremaining: 50.1s\n",
      "634:\tlearn: 0.0505721\ttotal: 1m 26s\tremaining: 50s\n",
      "635:\tlearn: 0.0505476\ttotal: 1m 27s\tremaining: 49.8s\n",
      "636:\tlearn: 0.0504963\ttotal: 1m 27s\tremaining: 49.6s\n",
      "637:\tlearn: 0.0504821\ttotal: 1m 27s\tremaining: 49.5s\n",
      "638:\tlearn: 0.0504665\ttotal: 1m 27s\tremaining: 49.3s\n",
      "639:\tlearn: 0.0504526\ttotal: 1m 27s\tremaining: 49.2s\n",
      "640:\tlearn: 0.0503347\ttotal: 1m 27s\tremaining: 49s\n",
      "641:\tlearn: 0.0503289\ttotal: 1m 27s\tremaining: 48.8s\n",
      "642:\tlearn: 0.0503135\ttotal: 1m 27s\tremaining: 48.7s\n",
      "643:\tlearn: 0.0502827\ttotal: 1m 27s\tremaining: 48.5s\n",
      "644:\tlearn: 0.0502418\ttotal: 1m 27s\tremaining: 48.4s\n",
      "645:\tlearn: 0.0502358\ttotal: 1m 27s\tremaining: 48.2s\n",
      "646:\tlearn: 0.0502125\ttotal: 1m 28s\tremaining: 48.1s\n",
      "647:\tlearn: 0.0501479\ttotal: 1m 28s\tremaining: 47.9s\n",
      "648:\tlearn: 0.0501121\ttotal: 1m 28s\tremaining: 47.7s\n",
      "649:\tlearn: 0.0500921\ttotal: 1m 28s\tremaining: 47.6s\n",
      "650:\tlearn: 0.0500863\ttotal: 1m 28s\tremaining: 47.4s\n",
      "651:\tlearn: 0.0500736\ttotal: 1m 28s\tremaining: 47.3s\n",
      "652:\tlearn: 0.0500483\ttotal: 1m 28s\tremaining: 47.1s\n",
      "653:\tlearn: 0.0500128\ttotal: 1m 28s\tremaining: 47s\n",
      "654:\tlearn: 0.0499874\ttotal: 1m 28s\tremaining: 46.8s\n",
      "655:\tlearn: 0.0499826\ttotal: 1m 28s\tremaining: 46.7s\n",
      "656:\tlearn: 0.0498988\ttotal: 1m 29s\tremaining: 46.5s\n",
      "657:\tlearn: 0.0498647\ttotal: 1m 29s\tremaining: 46.4s\n",
      "658:\tlearn: 0.0498619\ttotal: 1m 29s\tremaining: 46.2s\n",
      "659:\tlearn: 0.0498571\ttotal: 1m 29s\tremaining: 46s\n",
      "660:\tlearn: 0.0498286\ttotal: 1m 29s\tremaining: 45.9s\n",
      "661:\tlearn: 0.0497933\ttotal: 1m 29s\tremaining: 45.7s\n",
      "662:\tlearn: 0.0497852\ttotal: 1m 29s\tremaining: 45.6s\n",
      "663:\tlearn: 0.0497798\ttotal: 1m 29s\tremaining: 45.4s\n",
      "664:\tlearn: 0.0497491\ttotal: 1m 29s\tremaining: 45.3s\n",
      "665:\tlearn: 0.0497402\ttotal: 1m 29s\tremaining: 45.1s\n",
      "666:\tlearn: 0.0497364\ttotal: 1m 30s\tremaining: 45s\n",
      "667:\tlearn: 0.0497346\ttotal: 1m 30s\tremaining: 44.8s\n",
      "668:\tlearn: 0.0497193\ttotal: 1m 30s\tremaining: 44.7s\n",
      "669:\tlearn: 0.0497042\ttotal: 1m 30s\tremaining: 44.5s\n",
      "670:\tlearn: 0.0496759\ttotal: 1m 30s\tremaining: 44.4s\n",
      "671:\tlearn: 0.0496701\ttotal: 1m 30s\tremaining: 44.2s\n",
      "672:\tlearn: 0.0496664\ttotal: 1m 30s\tremaining: 44.1s\n",
      "673:\tlearn: 0.0496534\ttotal: 1m 30s\tremaining: 43.9s\n",
      "674:\tlearn: 0.0496362\ttotal: 1m 30s\tremaining: 43.8s\n",
      "675:\tlearn: 0.0496298\ttotal: 1m 30s\tremaining: 43.6s\n",
      "676:\tlearn: 0.0495404\ttotal: 1m 31s\tremaining: 43.5s\n",
      "677:\tlearn: 0.0494563\ttotal: 1m 31s\tremaining: 43.3s\n",
      "678:\tlearn: 0.0493589\ttotal: 1m 31s\tremaining: 43.2s\n",
      "679:\tlearn: 0.0492444\ttotal: 1m 31s\tremaining: 43s\n",
      "680:\tlearn: 0.0492155\ttotal: 1m 31s\tremaining: 42.9s\n",
      "681:\tlearn: 0.0492149\ttotal: 1m 31s\tremaining: 42.7s\n",
      "682:\tlearn: 0.0492116\ttotal: 1m 31s\tremaining: 42.5s\n",
      "683:\tlearn: 0.0491950\ttotal: 1m 31s\tremaining: 42.4s\n",
      "684:\tlearn: 0.0491716\ttotal: 1m 31s\tremaining: 42.3s\n",
      "685:\tlearn: 0.0491193\ttotal: 1m 31s\tremaining: 42.1s\n",
      "686:\tlearn: 0.0491162\ttotal: 1m 32s\tremaining: 42s\n",
      "687:\tlearn: 0.0490340\ttotal: 1m 32s\tremaining: 41.8s\n",
      "688:\tlearn: 0.0490283\ttotal: 1m 32s\tremaining: 41.7s\n",
      "689:\tlearn: 0.0490033\ttotal: 1m 32s\tremaining: 41.5s\n",
      "690:\tlearn: 0.0489363\ttotal: 1m 32s\tremaining: 41.4s\n",
      "691:\tlearn: 0.0489079\ttotal: 1m 32s\tremaining: 41.2s\n",
      "692:\tlearn: 0.0488011\ttotal: 1m 32s\tremaining: 41.1s\n",
      "693:\tlearn: 0.0487918\ttotal: 1m 32s\tremaining: 40.9s\n",
      "694:\tlearn: 0.0487140\ttotal: 1m 32s\tremaining: 40.8s\n",
      "695:\tlearn: 0.0486684\ttotal: 1m 33s\tremaining: 40.6s\n",
      "696:\tlearn: 0.0486171\ttotal: 1m 33s\tremaining: 40.5s\n",
      "697:\tlearn: 0.0486016\ttotal: 1m 33s\tremaining: 40.3s\n",
      "698:\tlearn: 0.0485922\ttotal: 1m 33s\tremaining: 40.2s\n",
      "699:\tlearn: 0.0485883\ttotal: 1m 33s\tremaining: 40s\n",
      "700:\tlearn: 0.0485847\ttotal: 1m 33s\tremaining: 39.9s\n",
      "701:\tlearn: 0.0485553\ttotal: 1m 33s\tremaining: 39.7s\n",
      "702:\tlearn: 0.0484970\ttotal: 1m 33s\tremaining: 39.6s\n",
      "703:\tlearn: 0.0484704\ttotal: 1m 33s\tremaining: 39.5s\n",
      "704:\tlearn: 0.0484407\ttotal: 1m 33s\tremaining: 39.3s\n",
      "705:\tlearn: 0.0484084\ttotal: 1m 34s\tremaining: 39.2s\n",
      "706:\tlearn: 0.0483996\ttotal: 1m 34s\tremaining: 39s\n",
      "707:\tlearn: 0.0483701\ttotal: 1m 34s\tremaining: 38.9s\n",
      "708:\tlearn: 0.0483145\ttotal: 1m 34s\tremaining: 38.7s\n",
      "709:\tlearn: 0.0482509\ttotal: 1m 34s\tremaining: 38.6s\n",
      "710:\tlearn: 0.0482260\ttotal: 1m 34s\tremaining: 38.5s\n",
      "711:\tlearn: 0.0482022\ttotal: 1m 34s\tremaining: 38.3s\n",
      "712:\tlearn: 0.0481970\ttotal: 1m 34s\tremaining: 38.2s\n",
      "713:\tlearn: 0.0481535\ttotal: 1m 34s\tremaining: 38s\n",
      "714:\tlearn: 0.0480530\ttotal: 1m 35s\tremaining: 37.9s\n",
      "715:\tlearn: 0.0480509\ttotal: 1m 35s\tremaining: 37.7s\n",
      "716:\tlearn: 0.0480009\ttotal: 1m 35s\tremaining: 37.6s\n",
      "717:\tlearn: 0.0479607\ttotal: 1m 35s\tremaining: 37.4s\n",
      "718:\tlearn: 0.0479298\ttotal: 1m 35s\tremaining: 37.3s\n",
      "719:\tlearn: 0.0478604\ttotal: 1m 35s\tremaining: 37.2s\n",
      "720:\tlearn: 0.0478290\ttotal: 1m 35s\tremaining: 37s\n",
      "721:\tlearn: 0.0477789\ttotal: 1m 35s\tremaining: 36.9s\n",
      "722:\tlearn: 0.0477635\ttotal: 1m 35s\tremaining: 36.7s\n",
      "723:\tlearn: 0.0477613\ttotal: 1m 35s\tremaining: 36.6s\n",
      "724:\tlearn: 0.0477540\ttotal: 1m 36s\tremaining: 36.4s\n",
      "725:\tlearn: 0.0477046\ttotal: 1m 36s\tremaining: 36.3s\n",
      "726:\tlearn: 0.0477002\ttotal: 1m 36s\tremaining: 36.1s\n",
      "727:\tlearn: 0.0476695\ttotal: 1m 36s\tremaining: 36s\n",
      "728:\tlearn: 0.0476498\ttotal: 1m 36s\tremaining: 35.9s\n",
      "729:\tlearn: 0.0476453\ttotal: 1m 36s\tremaining: 35.7s\n",
      "730:\tlearn: 0.0476416\ttotal: 1m 36s\tremaining: 35.6s\n",
      "731:\tlearn: 0.0476092\ttotal: 1m 36s\tremaining: 35.4s\n",
      "732:\tlearn: 0.0475955\ttotal: 1m 36s\tremaining: 35.3s\n",
      "733:\tlearn: 0.0475598\ttotal: 1m 36s\tremaining: 35.1s\n",
      "734:\tlearn: 0.0475088\ttotal: 1m 37s\tremaining: 35s\n",
      "735:\tlearn: 0.0474358\ttotal: 1m 37s\tremaining: 34.9s\n",
      "736:\tlearn: 0.0473984\ttotal: 1m 37s\tremaining: 34.7s\n",
      "737:\tlearn: 0.0472219\ttotal: 1m 37s\tremaining: 34.6s\n",
      "738:\tlearn: 0.0472091\ttotal: 1m 37s\tremaining: 34.5s\n",
      "739:\tlearn: 0.0471719\ttotal: 1m 37s\tremaining: 34.3s\n",
      "740:\tlearn: 0.0471661\ttotal: 1m 37s\tremaining: 34.2s\n",
      "741:\tlearn: 0.0471632\ttotal: 1m 37s\tremaining: 34s\n",
      "742:\tlearn: 0.0471587\ttotal: 1m 37s\tremaining: 33.9s\n",
      "743:\tlearn: 0.0470968\ttotal: 1m 38s\tremaining: 33.7s\n",
      "744:\tlearn: 0.0470920\ttotal: 1m 38s\tremaining: 33.6s\n",
      "745:\tlearn: 0.0470349\ttotal: 1m 38s\tremaining: 33.5s\n",
      "746:\tlearn: 0.0470304\ttotal: 1m 38s\tremaining: 33.3s\n",
      "747:\tlearn: 0.0470148\ttotal: 1m 38s\tremaining: 33.2s\n",
      "748:\tlearn: 0.0469490\ttotal: 1m 38s\tremaining: 33s\n",
      "749:\tlearn: 0.0469406\ttotal: 1m 38s\tremaining: 32.9s\n",
      "750:\tlearn: 0.0469255\ttotal: 1m 38s\tremaining: 32.8s\n",
      "751:\tlearn: 0.0468531\ttotal: 1m 38s\tremaining: 32.6s\n",
      "752:\tlearn: 0.0468019\ttotal: 1m 39s\tremaining: 32.5s\n",
      "753:\tlearn: 0.0467949\ttotal: 1m 39s\tremaining: 32.4s\n",
      "754:\tlearn: 0.0467648\ttotal: 1m 39s\tremaining: 32.2s\n",
      "755:\tlearn: 0.0467228\ttotal: 1m 39s\tremaining: 32.1s\n",
      "756:\tlearn: 0.0467100\ttotal: 1m 39s\tremaining: 31.9s\n",
      "757:\tlearn: 0.0466640\ttotal: 1m 39s\tremaining: 31.8s\n",
      "758:\tlearn: 0.0466541\ttotal: 1m 39s\tremaining: 31.7s\n",
      "759:\tlearn: 0.0466055\ttotal: 1m 39s\tremaining: 31.5s\n",
      "760:\tlearn: 0.0465618\ttotal: 1m 39s\tremaining: 31.4s\n",
      "761:\tlearn: 0.0464826\ttotal: 1m 40s\tremaining: 31.2s\n",
      "762:\tlearn: 0.0464731\ttotal: 1m 40s\tremaining: 31.1s\n",
      "763:\tlearn: 0.0464671\ttotal: 1m 40s\tremaining: 31s\n",
      "764:\tlearn: 0.0464204\ttotal: 1m 40s\tremaining: 30.8s\n",
      "765:\tlearn: 0.0464164\ttotal: 1m 40s\tremaining: 30.7s\n",
      "766:\tlearn: 0.0464150\ttotal: 1m 40s\tremaining: 30.6s\n",
      "767:\tlearn: 0.0463421\ttotal: 1m 40s\tremaining: 30.4s\n",
      "768:\tlearn: 0.0463400\ttotal: 1m 40s\tremaining: 30.3s\n",
      "769:\tlearn: 0.0462651\ttotal: 1m 40s\tremaining: 30.2s\n",
      "770:\tlearn: 0.0462592\ttotal: 1m 41s\tremaining: 30s\n",
      "771:\tlearn: 0.0462445\ttotal: 1m 41s\tremaining: 29.9s\n",
      "772:\tlearn: 0.0462408\ttotal: 1m 41s\tremaining: 29.7s\n",
      "773:\tlearn: 0.0462375\ttotal: 1m 41s\tremaining: 29.6s\n",
      "774:\tlearn: 0.0462314\ttotal: 1m 41s\tremaining: 29.5s\n",
      "775:\tlearn: 0.0462208\ttotal: 1m 41s\tremaining: 29.3s\n",
      "776:\tlearn: 0.0462187\ttotal: 1m 41s\tremaining: 29.2s\n",
      "777:\tlearn: 0.0462075\ttotal: 1m 41s\tremaining: 29.1s\n",
      "778:\tlearn: 0.0462008\ttotal: 1m 41s\tremaining: 28.9s\n",
      "779:\tlearn: 0.0461972\ttotal: 1m 42s\tremaining: 28.8s\n",
      "780:\tlearn: 0.0461942\ttotal: 1m 42s\tremaining: 28.7s\n",
      "781:\tlearn: 0.0461560\ttotal: 1m 42s\tremaining: 28.5s\n",
      "782:\tlearn: 0.0461488\ttotal: 1m 42s\tremaining: 28.4s\n"
     ]
    },
    {
     "name": "stdout",
     "output_type": "stream",
     "text": [
      "783:\tlearn: 0.0461160\ttotal: 1m 42s\tremaining: 28.3s\n",
      "784:\tlearn: 0.0460343\ttotal: 1m 42s\tremaining: 28.1s\n",
      "785:\tlearn: 0.0459945\ttotal: 1m 42s\tremaining: 28s\n",
      "786:\tlearn: 0.0459882\ttotal: 1m 42s\tremaining: 27.9s\n",
      "787:\tlearn: 0.0459744\ttotal: 1m 43s\tremaining: 27.7s\n",
      "788:\tlearn: 0.0458681\ttotal: 1m 43s\tremaining: 27.6s\n",
      "789:\tlearn: 0.0458605\ttotal: 1m 43s\tremaining: 27.5s\n",
      "790:\tlearn: 0.0458144\ttotal: 1m 43s\tremaining: 27.3s\n",
      "791:\tlearn: 0.0458109\ttotal: 1m 43s\tremaining: 27.2s\n",
      "792:\tlearn: 0.0457530\ttotal: 1m 43s\tremaining: 27.1s\n",
      "793:\tlearn: 0.0457177\ttotal: 1m 43s\tremaining: 26.9s\n",
      "794:\tlearn: 0.0457157\ttotal: 1m 43s\tremaining: 26.8s\n",
      "795:\tlearn: 0.0456673\ttotal: 1m 44s\tremaining: 26.7s\n",
      "796:\tlearn: 0.0455778\ttotal: 1m 44s\tremaining: 26.5s\n",
      "797:\tlearn: 0.0455363\ttotal: 1m 44s\tremaining: 26.4s\n",
      "798:\tlearn: 0.0455049\ttotal: 1m 44s\tremaining: 26.3s\n",
      "799:\tlearn: 0.0454837\ttotal: 1m 44s\tremaining: 26.1s\n",
      "800:\tlearn: 0.0454405\ttotal: 1m 44s\tremaining: 26s\n",
      "801:\tlearn: 0.0454366\ttotal: 1m 44s\tremaining: 25.9s\n",
      "802:\tlearn: 0.0454252\ttotal: 1m 44s\tremaining: 25.7s\n",
      "803:\tlearn: 0.0453596\ttotal: 1m 45s\tremaining: 25.6s\n",
      "804:\tlearn: 0.0453462\ttotal: 1m 45s\tremaining: 25.5s\n",
      "805:\tlearn: 0.0453237\ttotal: 1m 45s\tremaining: 25.3s\n",
      "806:\tlearn: 0.0453063\ttotal: 1m 45s\tremaining: 25.2s\n",
      "807:\tlearn: 0.0452896\ttotal: 1m 45s\tremaining: 25.1s\n",
      "808:\tlearn: 0.0452375\ttotal: 1m 45s\tremaining: 24.9s\n",
      "809:\tlearn: 0.0451944\ttotal: 1m 45s\tremaining: 24.8s\n",
      "810:\tlearn: 0.0451657\ttotal: 1m 45s\tremaining: 24.7s\n",
      "811:\tlearn: 0.0451433\ttotal: 1m 45s\tremaining: 24.5s\n",
      "812:\tlearn: 0.0451405\ttotal: 1m 46s\tremaining: 24.4s\n",
      "813:\tlearn: 0.0451208\ttotal: 1m 46s\tremaining: 24.3s\n",
      "814:\tlearn: 0.0450884\ttotal: 1m 46s\tremaining: 24.1s\n",
      "815:\tlearn: 0.0450584\ttotal: 1m 46s\tremaining: 24s\n",
      "816:\tlearn: 0.0450537\ttotal: 1m 46s\tremaining: 23.8s\n",
      "817:\tlearn: 0.0450527\ttotal: 1m 46s\tremaining: 23.7s\n",
      "818:\tlearn: 0.0449615\ttotal: 1m 46s\tremaining: 23.6s\n",
      "819:\tlearn: 0.0449412\ttotal: 1m 46s\tremaining: 23.5s\n",
      "820:\tlearn: 0.0449407\ttotal: 1m 46s\tremaining: 23.3s\n",
      "821:\tlearn: 0.0449260\ttotal: 1m 47s\tremaining: 23.2s\n",
      "822:\tlearn: 0.0448920\ttotal: 1m 47s\tremaining: 23.1s\n",
      "823:\tlearn: 0.0448483\ttotal: 1m 47s\tremaining: 22.9s\n",
      "824:\tlearn: 0.0448413\ttotal: 1m 47s\tremaining: 22.8s\n",
      "825:\tlearn: 0.0448263\ttotal: 1m 47s\tremaining: 22.7s\n",
      "826:\tlearn: 0.0447554\ttotal: 1m 47s\tremaining: 22.5s\n",
      "827:\tlearn: 0.0447514\ttotal: 1m 47s\tremaining: 22.4s\n",
      "828:\tlearn: 0.0447501\ttotal: 1m 47s\tremaining: 22.3s\n",
      "829:\tlearn: 0.0447346\ttotal: 1m 48s\tremaining: 22.1s\n",
      "830:\tlearn: 0.0447322\ttotal: 1m 48s\tremaining: 22s\n",
      "831:\tlearn: 0.0446739\ttotal: 1m 48s\tremaining: 21.9s\n",
      "832:\tlearn: 0.0446489\ttotal: 1m 48s\tremaining: 21.7s\n",
      "833:\tlearn: 0.0445712\ttotal: 1m 48s\tremaining: 21.6s\n",
      "834:\tlearn: 0.0445121\ttotal: 1m 48s\tremaining: 21.5s\n",
      "835:\tlearn: 0.0445053\ttotal: 1m 48s\tremaining: 21.3s\n",
      "836:\tlearn: 0.0444898\ttotal: 1m 48s\tremaining: 21.2s\n",
      "837:\tlearn: 0.0444676\ttotal: 1m 49s\tremaining: 21.1s\n",
      "838:\tlearn: 0.0444411\ttotal: 1m 49s\tremaining: 20.9s\n",
      "839:\tlearn: 0.0444358\ttotal: 1m 49s\tremaining: 20.8s\n",
      "840:\tlearn: 0.0444109\ttotal: 1m 49s\tremaining: 20.7s\n",
      "841:\tlearn: 0.0443909\ttotal: 1m 49s\tremaining: 20.5s\n",
      "842:\tlearn: 0.0442907\ttotal: 1m 49s\tremaining: 20.4s\n",
      "843:\tlearn: 0.0442279\ttotal: 1m 49s\tremaining: 20.3s\n",
      "844:\tlearn: 0.0440587\ttotal: 1m 49s\tremaining: 20.2s\n",
      "845:\tlearn: 0.0440334\ttotal: 1m 49s\tremaining: 20s\n",
      "846:\tlearn: 0.0440298\ttotal: 1m 50s\tremaining: 19.9s\n",
      "847:\tlearn: 0.0440287\ttotal: 1m 50s\tremaining: 19.8s\n",
      "848:\tlearn: 0.0440014\ttotal: 1m 50s\tremaining: 19.6s\n",
      "849:\tlearn: 0.0439044\ttotal: 1m 50s\tremaining: 19.5s\n",
      "850:\tlearn: 0.0438523\ttotal: 1m 50s\tremaining: 19.4s\n",
      "851:\tlearn: 0.0438284\ttotal: 1m 50s\tremaining: 19.2s\n",
      "852:\tlearn: 0.0438234\ttotal: 1m 50s\tremaining: 19.1s\n",
      "853:\tlearn: 0.0438044\ttotal: 1m 50s\tremaining: 19s\n",
      "854:\tlearn: 0.0437987\ttotal: 1m 50s\tremaining: 18.8s\n",
      "855:\tlearn: 0.0437538\ttotal: 1m 51s\tremaining: 18.7s\n",
      "856:\tlearn: 0.0437528\ttotal: 1m 51s\tremaining: 18.6s\n",
      "857:\tlearn: 0.0437033\ttotal: 1m 51s\tremaining: 18.4s\n",
      "858:\tlearn: 0.0437027\ttotal: 1m 51s\tremaining: 18.3s\n",
      "859:\tlearn: 0.0436361\ttotal: 1m 51s\tremaining: 18.2s\n",
      "860:\tlearn: 0.0435199\ttotal: 1m 51s\tremaining: 18s\n",
      "861:\tlearn: 0.0435117\ttotal: 1m 51s\tremaining: 17.9s\n",
      "862:\tlearn: 0.0435075\ttotal: 1m 52s\tremaining: 17.8s\n",
      "863:\tlearn: 0.0434910\ttotal: 1m 52s\tremaining: 17.6s\n",
      "864:\tlearn: 0.0434836\ttotal: 1m 52s\tremaining: 17.5s\n",
      "865:\tlearn: 0.0433960\ttotal: 1m 52s\tremaining: 17.4s\n",
      "866:\tlearn: 0.0433779\ttotal: 1m 52s\tremaining: 17.3s\n",
      "867:\tlearn: 0.0433775\ttotal: 1m 52s\tremaining: 17.1s\n",
      "868:\tlearn: 0.0433473\ttotal: 1m 52s\tremaining: 17s\n",
      "869:\tlearn: 0.0433329\ttotal: 1m 52s\tremaining: 16.9s\n",
      "870:\tlearn: 0.0433274\ttotal: 1m 53s\tremaining: 16.7s\n",
      "871:\tlearn: 0.0432157\ttotal: 1m 53s\tremaining: 16.6s\n",
      "872:\tlearn: 0.0432130\ttotal: 1m 53s\tremaining: 16.5s\n",
      "873:\tlearn: 0.0432021\ttotal: 1m 53s\tremaining: 16.4s\n",
      "874:\tlearn: 0.0431875\ttotal: 1m 53s\tremaining: 16.2s\n",
      "875:\tlearn: 0.0431714\ttotal: 1m 53s\tremaining: 16.1s\n",
      "876:\tlearn: 0.0431283\ttotal: 1m 53s\tremaining: 16s\n",
      "877:\tlearn: 0.0431194\ttotal: 1m 53s\tremaining: 15.8s\n",
      "878:\tlearn: 0.0431116\ttotal: 1m 54s\tremaining: 15.7s\n",
      "879:\tlearn: 0.0430704\ttotal: 1m 54s\tremaining: 15.6s\n",
      "880:\tlearn: 0.0430445\ttotal: 1m 54s\tremaining: 15.4s\n",
      "881:\tlearn: 0.0430042\ttotal: 1m 54s\tremaining: 15.3s\n",
      "882:\tlearn: 0.0429812\ttotal: 1m 54s\tremaining: 15.2s\n",
      "883:\tlearn: 0.0429271\ttotal: 1m 54s\tremaining: 15.1s\n",
      "884:\tlearn: 0.0428489\ttotal: 1m 54s\tremaining: 14.9s\n",
      "885:\tlearn: 0.0428450\ttotal: 1m 54s\tremaining: 14.8s\n",
      "886:\tlearn: 0.0428362\ttotal: 1m 55s\tremaining: 14.7s\n",
      "887:\tlearn: 0.0428359\ttotal: 1m 55s\tremaining: 14.5s\n",
      "888:\tlearn: 0.0428269\ttotal: 1m 55s\tremaining: 14.4s\n",
      "889:\tlearn: 0.0427934\ttotal: 1m 55s\tremaining: 14.3s\n",
      "890:\tlearn: 0.0427731\ttotal: 1m 55s\tremaining: 14.1s\n",
      "891:\tlearn: 0.0426780\ttotal: 1m 55s\tremaining: 14s\n",
      "892:\tlearn: 0.0425875\ttotal: 1m 55s\tremaining: 13.9s\n",
      "893:\tlearn: 0.0425616\ttotal: 1m 55s\tremaining: 13.7s\n",
      "894:\tlearn: 0.0425572\ttotal: 1m 55s\tremaining: 13.6s\n",
      "895:\tlearn: 0.0425562\ttotal: 1m 56s\tremaining: 13.5s\n",
      "896:\tlearn: 0.0425444\ttotal: 1m 56s\tremaining: 13.3s\n",
      "897:\tlearn: 0.0425336\ttotal: 1m 56s\tremaining: 13.2s\n",
      "898:\tlearn: 0.0424764\ttotal: 1m 56s\tremaining: 13.1s\n",
      "899:\tlearn: 0.0424678\ttotal: 1m 56s\tremaining: 12.9s\n",
      "900:\tlearn: 0.0424594\ttotal: 1m 56s\tremaining: 12.8s\n",
      "901:\tlearn: 0.0424278\ttotal: 1m 56s\tremaining: 12.7s\n",
      "902:\tlearn: 0.0424276\ttotal: 1m 56s\tremaining: 12.6s\n",
      "903:\tlearn: 0.0424182\ttotal: 1m 56s\tremaining: 12.4s\n",
      "904:\tlearn: 0.0424055\ttotal: 1m 57s\tremaining: 12.3s\n",
      "905:\tlearn: 0.0423836\ttotal: 1m 57s\tremaining: 12.2s\n",
      "906:\tlearn: 0.0423803\ttotal: 1m 57s\tremaining: 12s\n",
      "907:\tlearn: 0.0423565\ttotal: 1m 57s\tremaining: 11.9s\n",
      "908:\tlearn: 0.0423558\ttotal: 1m 57s\tremaining: 11.8s\n",
      "909:\tlearn: 0.0423464\ttotal: 1m 57s\tremaining: 11.6s\n",
      "910:\tlearn: 0.0423289\ttotal: 1m 57s\tremaining: 11.5s\n",
      "911:\tlearn: 0.0423087\ttotal: 1m 57s\tremaining: 11.4s\n",
      "912:\tlearn: 0.0422624\ttotal: 1m 58s\tremaining: 11.2s\n",
      "913:\tlearn: 0.0422530\ttotal: 1m 58s\tremaining: 11.1s\n",
      "914:\tlearn: 0.0421952\ttotal: 1m 58s\tremaining: 11s\n",
      "915:\tlearn: 0.0421923\ttotal: 1m 58s\tremaining: 10.9s\n",
      "916:\tlearn: 0.0421465\ttotal: 1m 58s\tremaining: 10.7s\n",
      "917:\tlearn: 0.0420904\ttotal: 1m 58s\tremaining: 10.6s\n",
      "918:\tlearn: 0.0420840\ttotal: 1m 58s\tremaining: 10.5s\n",
      "919:\tlearn: 0.0420545\ttotal: 1m 58s\tremaining: 10.3s\n",
      "920:\tlearn: 0.0420522\ttotal: 1m 58s\tremaining: 10.2s\n",
      "921:\tlearn: 0.0420439\ttotal: 1m 59s\tremaining: 10.1s\n",
      "922:\tlearn: 0.0420181\ttotal: 1m 59s\tremaining: 9.94s\n",
      "923:\tlearn: 0.0419931\ttotal: 1m 59s\tremaining: 9.81s\n",
      "924:\tlearn: 0.0419457\ttotal: 1m 59s\tremaining: 9.68s\n",
      "925:\tlearn: 0.0419448\ttotal: 1m 59s\tremaining: 9.55s\n",
      "926:\tlearn: 0.0419436\ttotal: 1m 59s\tremaining: 9.42s\n",
      "927:\tlearn: 0.0418980\ttotal: 1m 59s\tremaining: 9.29s\n",
      "928:\tlearn: 0.0418922\ttotal: 1m 59s\tremaining: 9.16s\n",
      "929:\tlearn: 0.0418819\ttotal: 2m\tremaining: 9.04s\n",
      "930:\tlearn: 0.0418782\ttotal: 2m\tremaining: 8.9s\n",
      "931:\tlearn: 0.0417746\ttotal: 2m\tremaining: 8.77s\n",
      "932:\tlearn: 0.0417331\ttotal: 2m\tremaining: 8.64s\n",
      "933:\tlearn: 0.0417317\ttotal: 2m\tremaining: 8.51s\n",
      "934:\tlearn: 0.0416350\ttotal: 2m\tremaining: 8.38s\n",
      "935:\tlearn: 0.0414612\ttotal: 2m\tremaining: 8.25s\n",
      "936:\tlearn: 0.0414344\ttotal: 2m\tremaining: 8.12s\n",
      "937:\tlearn: 0.0414055\ttotal: 2m\tremaining: 7.99s\n",
      "938:\tlearn: 0.0414006\ttotal: 2m 1s\tremaining: 7.86s\n",
      "939:\tlearn: 0.0413748\ttotal: 2m 1s\tremaining: 7.73s\n"
     ]
    },
    {
     "name": "stdout",
     "output_type": "stream",
     "text": [
      "940:\tlearn: 0.0413372\ttotal: 2m 1s\tremaining: 7.6s\n",
      "941:\tlearn: 0.0413243\ttotal: 2m 1s\tremaining: 7.47s\n",
      "942:\tlearn: 0.0412784\ttotal: 2m 1s\tremaining: 7.34s\n",
      "943:\tlearn: 0.0412505\ttotal: 2m 1s\tremaining: 7.21s\n",
      "944:\tlearn: 0.0412215\ttotal: 2m 1s\tremaining: 7.08s\n",
      "945:\tlearn: 0.0412200\ttotal: 2m 1s\tremaining: 6.95s\n",
      "946:\tlearn: 0.0412181\ttotal: 2m 1s\tremaining: 6.82s\n",
      "947:\tlearn: 0.0412130\ttotal: 2m 2s\tremaining: 6.69s\n",
      "948:\tlearn: 0.0412080\ttotal: 2m 2s\tremaining: 6.56s\n",
      "949:\tlearn: 0.0412029\ttotal: 2m 2s\tremaining: 6.43s\n",
      "950:\tlearn: 0.0412002\ttotal: 2m 2s\tremaining: 6.3s\n",
      "951:\tlearn: 0.0411549\ttotal: 2m 2s\tremaining: 6.17s\n",
      "952:\tlearn: 0.0411463\ttotal: 2m 2s\tremaining: 6.05s\n",
      "953:\tlearn: 0.0411417\ttotal: 2m 2s\tremaining: 5.92s\n",
      "954:\tlearn: 0.0411406\ttotal: 2m 2s\tremaining: 5.79s\n",
      "955:\tlearn: 0.0411010\ttotal: 2m 2s\tremaining: 5.66s\n",
      "956:\tlearn: 0.0410190\ttotal: 2m 3s\tremaining: 5.53s\n",
      "957:\tlearn: 0.0410183\ttotal: 2m 3s\tremaining: 5.4s\n",
      "958:\tlearn: 0.0410067\ttotal: 2m 3s\tremaining: 5.27s\n",
      "959:\tlearn: 0.0409803\ttotal: 2m 3s\tremaining: 5.14s\n",
      "960:\tlearn: 0.0409735\ttotal: 2m 3s\tremaining: 5.01s\n",
      "961:\tlearn: 0.0409686\ttotal: 2m 3s\tremaining: 4.88s\n",
      "962:\tlearn: 0.0409319\ttotal: 2m 3s\tremaining: 4.75s\n",
      "963:\tlearn: 0.0409303\ttotal: 2m 3s\tremaining: 4.62s\n",
      "964:\tlearn: 0.0409266\ttotal: 2m 4s\tremaining: 4.5s\n",
      "965:\tlearn: 0.0408702\ttotal: 2m 4s\tremaining: 4.37s\n",
      "966:\tlearn: 0.0408481\ttotal: 2m 4s\tremaining: 4.24s\n",
      "967:\tlearn: 0.0407396\ttotal: 2m 4s\tremaining: 4.11s\n",
      "968:\tlearn: 0.0406493\ttotal: 2m 4s\tremaining: 3.98s\n",
      "969:\tlearn: 0.0406335\ttotal: 2m 4s\tremaining: 3.85s\n",
      "970:\tlearn: 0.0406029\ttotal: 2m 4s\tremaining: 3.73s\n",
      "971:\tlearn: 0.0405900\ttotal: 2m 4s\tremaining: 3.6s\n",
      "972:\tlearn: 0.0405628\ttotal: 2m 4s\tremaining: 3.47s\n",
      "973:\tlearn: 0.0405590\ttotal: 2m 5s\tremaining: 3.34s\n",
      "974:\tlearn: 0.0405292\ttotal: 2m 5s\tremaining: 3.21s\n",
      "975:\tlearn: 0.0405107\ttotal: 2m 5s\tremaining: 3.08s\n",
      "976:\tlearn: 0.0404898\ttotal: 2m 5s\tremaining: 2.95s\n",
      "977:\tlearn: 0.0404891\ttotal: 2m 5s\tremaining: 2.83s\n",
      "978:\tlearn: 0.0404802\ttotal: 2m 5s\tremaining: 2.7s\n",
      "979:\tlearn: 0.0404537\ttotal: 2m 5s\tremaining: 2.57s\n",
      "980:\tlearn: 0.0404516\ttotal: 2m 5s\tremaining: 2.44s\n",
      "981:\tlearn: 0.0404060\ttotal: 2m 6s\tremaining: 2.31s\n",
      "982:\tlearn: 0.0403450\ttotal: 2m 6s\tremaining: 2.18s\n",
      "983:\tlearn: 0.0402948\ttotal: 2m 6s\tremaining: 2.05s\n",
      "984:\tlearn: 0.0402907\ttotal: 2m 6s\tremaining: 1.93s\n",
      "985:\tlearn: 0.0402690\ttotal: 2m 6s\tremaining: 1.8s\n",
      "986:\tlearn: 0.0402291\ttotal: 2m 6s\tremaining: 1.67s\n",
      "987:\tlearn: 0.0401761\ttotal: 2m 6s\tremaining: 1.54s\n",
      "988:\tlearn: 0.0401171\ttotal: 2m 6s\tremaining: 1.41s\n",
      "989:\tlearn: 0.0401137\ttotal: 2m 6s\tremaining: 1.28s\n",
      "990:\tlearn: 0.0401114\ttotal: 2m 7s\tremaining: 1.15s\n",
      "991:\tlearn: 0.0400919\ttotal: 2m 7s\tremaining: 1.02s\n",
      "992:\tlearn: 0.0400649\ttotal: 2m 7s\tremaining: 897ms\n",
      "993:\tlearn: 0.0400451\ttotal: 2m 7s\tremaining: 769ms\n",
      "994:\tlearn: 0.0400265\ttotal: 2m 7s\tremaining: 641ms\n",
      "995:\tlearn: 0.0399479\ttotal: 2m 7s\tremaining: 513ms\n",
      "996:\tlearn: 0.0398883\ttotal: 2m 7s\tremaining: 384ms\n",
      "997:\tlearn: 0.0398104\ttotal: 2m 7s\tremaining: 256ms\n",
      "998:\tlearn: 0.0398065\ttotal: 2m 7s\tremaining: 128ms\n",
      "999:\tlearn: 0.0398045\ttotal: 2m 8s\tremaining: 0us\n"
     ]
    },
    {
     "data": {
      "text/plain": [
       "<catboost.core.CatBoostClassifier at 0x1a1b1d8208>"
      ]
     },
     "execution_count": 57,
     "metadata": {},
     "output_type": "execute_result"
    }
   ],
   "source": [
    "model_cat.fit(X_train, y_train)"
   ]
  },
  {
   "cell_type": "code",
   "execution_count": 58,
   "metadata": {
    "colab": {},
    "colab_type": "code",
    "id": "PO-Lgg1UCfrD"
   },
   "outputs": [],
   "source": [
    "y_predicted_cat = model_cat.predict_proba(X_test)"
   ]
  },
  {
   "cell_type": "code",
   "execution_count": 59,
   "metadata": {
    "colab": {},
    "colab_type": "code",
    "id": "cuieQuKuCfrG",
    "outputId": "9c2be831-e129-4b2b-8a7d-ef8f3dbeeaab"
   },
   "outputs": [
    {
     "name": "stdout",
     "output_type": "stream",
     "text": [
      "El valor del AUC es:  0.9328397252520308\n"
     ]
    }
   ],
   "source": [
    "cat_auc = roc_auc_score(y_test,y_predicted_cat[:,1])\n",
    "print(\"El valor del AUC es: \", cat_auc)"
   ]
  },
  {
   "cell_type": "markdown",
   "metadata": {
    "colab_type": "text",
    "id": "BtYEwKqGmfTE"
   },
   "source": [
    "La lista de hiperparámetros se puede consultar <a = \"https://tech.yandex.com/catboost/doc/dg/concepts/python-reference_parameters-list-docpage/\"> aquí </a>"
   ]
  },
  {
   "cell_type": "markdown",
   "metadata": {
    "colab_type": "text",
    "id": "V7mAF0tJCfrL"
   },
   "source": [
    "## Conclusiones"
   ]
  },
  {
   "cell_type": "code",
   "execution_count": 60,
   "metadata": {
    "colab": {},
    "colab_type": "code",
    "id": "U6bMCNvHCfrL",
    "outputId": "76baa7f1-ead7-4382-f179-fbe50a99e49c"
   },
   "outputs": [
    {
     "name": "stdout",
     "output_type": "stream",
     "text": [
      "Los resultados finales fueron:\n",
      " - AUC de knn: 0.5538863987517019  \n",
      " - AUC de RF: 0.8514402851504536  \n",
      " - AUC de XGBoost: 0.9158913246340008 \n",
      " - AUC de LightGBM: 0.9310743624653888 \n",
      " - AUC de CatBoost: 0.9328397252520308\n"
     ]
    }
   ],
   "source": [
    "print(\"Los resultados finales fueron:\\n - AUC de knn:\", knn_auc,\" \\n - AUC de RF:\", rf_auc, \" \\n - AUC de XGBoost:\", xgb_auc,\n",
    "     \"\\n - AUC de LightGBM:\", lgbm_auc, \"\\n - AUC de CatBoost:\", cat_auc)"
   ]
  },
  {
   "cell_type": "markdown",
   "metadata": {
    "colab_type": "text",
    "id": "TeNhSanSCfrR"
   },
   "source": [
    "Otros resultados finales fueron:\n",
    " - AUC de knn: 0.611448533827  \n",
    " - AUC de RF: 0.861997410428  \n",
    " - AUC de XGBoost: 0.917590322258 \n",
    " - AUC de LightGBM: 0.926237865292 \n",
    " - AUC de CatBoost: 0.929962720176\n"
   ]
  },
  {
   "cell_type": "markdown",
   "metadata": {
    "colab_type": "text",
    "id": "bfjIvVr_CfrR"
   },
   "source": [
    "Otros resultados finales fueron:\n",
    " - AUC de knn: 0.637398382501  \n",
    " - AUC de RF: 0.860488951279  \n",
    " - AUC de XGBoost: 0.923338152308 \n",
    " - AUC de LightGBM: 0.941349941334 \n",
    " - AUC de CatBoost: 0.945510671583\n"
   ]
  },
  {
   "cell_type": "code",
   "execution_count": null,
   "metadata": {
    "colab": {},
    "colab_type": "code",
    "id": "fkfek4PQDz4d"
   },
   "outputs": [],
   "source": []
  }
 ],
 "metadata": {
  "colab": {
   "collapsed_sections": [],
   "name": "2.PRACTICA_GUIADA_XGBoost_LightGBM.ipynb",
   "provenance": []
  },
  "kernelspec": {
   "display_name": "Python 3",
   "language": "python",
   "name": "python3"
  },
  "language_info": {
   "codemirror_mode": {
    "name": "ipython",
    "version": 3
   },
   "file_extension": ".py",
   "mimetype": "text/x-python",
   "name": "python",
   "nbconvert_exporter": "python",
   "pygments_lexer": "ipython3",
   "version": "3.7.3"
  }
 },
 "nbformat": 4,
 "nbformat_minor": 2
}
